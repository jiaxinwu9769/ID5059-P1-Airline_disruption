{
 "cells": [
  {
   "cell_type": "markdown",
   "id": "fb3c266c",
   "metadata": {},
   "source": [
    "# ID5059 2022-23: Coursework Assignment 1"
   ]
  },
  {
   "cell_type": "code",
   "execution_count": 1,
   "id": "cabc0a36",
   "metadata": {},
   "outputs": [],
   "source": [
    "import numpy as np \n",
    "import pandas as pd\n",
    "import seaborn as sns\n",
    "import matplotlib.pyplot as plt\n",
    "from sklearn.model_selection import train_test_split\n",
    "from sklearn.compose import ColumnTransformer\n",
    "from sklearn.preprocessing import OneHotEncoder\n",
    "from sklearn.preprocessing import StandardScaler\n",
    "from sklearn.metrics import roc_curve\n",
    "from sklearn.model_selection import GridSearchCV\n",
    "from sklearn.metrics import confusion_matrix\n",
    "from sklearn.metrics import accuracy_score, classification_report\n",
    "from sklearn.linear_model import SGDClassifier\n",
    "from sklearn.tree import DecisionTreeClassifier\n",
    "from sklearn.ensemble import RandomForestClassifier\n",
    "from sklearn.model_selection import cross_val_score\n",
    "from sklearn.metrics import roc_auc_score\n",
    "from sklearn.metrics import recall_score\n",
    "from sklearn.metrics import precision_score\n",
    "from sklearn.metrics import f1_score"
   ]
  },
  {
   "cell_type": "markdown",
   "id": "03bdeab3",
   "metadata": {},
   "source": [
    "## 1.organise the data"
   ]
  },
  {
   "cell_type": "markdown",
   "id": "5c5ff9da",
   "metadata": {},
   "source": [
    "### 1.1read data"
   ]
  },
  {
   "cell_type": "markdown",
   "id": "5779d258",
   "metadata": {},
   "source": [
    "### Read the samll dataset (If you want to run a small data set, turn this cell into code)\n",
    "flights = pd.read_csv(\"Combined_Flights_small.csv\")\n",
    "\n",
    "pd.set_option('display.max_columns', None)"
   ]
  },
  {
   "cell_type": "code",
   "execution_count": 2,
   "id": "57e7ce5b",
   "metadata": {},
   "outputs": [],
   "source": [
    "# Read the medium dataset respectively ((If you want to run a medium data set, turn this cell into code))\n",
    "flights_2018 = pd.read_csv(\"Combined_Flights_med_2018.csv\")\n",
    "flights_2019 = pd.read_csv(\"Combined_Flights_med_2019.csv\")\n",
    "flights_2020 = pd.read_csv(\"Combined_Flights_med_2020.csv\")\n",
    "flights_2021 = pd.read_csv(\"Combined_Flights_med_2021.csv\")\n",
    "flights_2022 = pd.read_csv(\"Combined_Flights_med_2022.csv\")\n",
    "\n",
    "# Combine them into a DataFrame\n",
    "flights = pd.concat([flights_2018, flights_2019, flights_2020, flights_2021, flights_2022])\n",
    "\n",
    "# Reset the index as the index of each original DataFrame may start from 0\n",
    "flights.reset_index(drop=True, inplace=True)"
   ]
  },
  {
   "cell_type": "code",
   "execution_count": 3,
   "id": "e61f9225",
   "metadata": {},
   "outputs": [
    {
     "data": {
      "text/html": [
       "<div>\n",
       "<style scoped>\n",
       "    .dataframe tbody tr th:only-of-type {\n",
       "        vertical-align: middle;\n",
       "    }\n",
       "\n",
       "    .dataframe tbody tr th {\n",
       "        vertical-align: top;\n",
       "    }\n",
       "\n",
       "    .dataframe thead th {\n",
       "        text-align: right;\n",
       "    }\n",
       "</style>\n",
       "<table border=\"1\" class=\"dataframe\">\n",
       "  <thead>\n",
       "    <tr style=\"text-align: right;\">\n",
       "      <th></th>\n",
       "      <th>FlightDate</th>\n",
       "      <th>Airline</th>\n",
       "      <th>Origin</th>\n",
       "      <th>Dest</th>\n",
       "      <th>Cancelled</th>\n",
       "      <th>Diverted</th>\n",
       "      <th>CRSDepTime</th>\n",
       "      <th>CRSElapsedTime</th>\n",
       "      <th>Distance</th>\n",
       "      <th>Year</th>\n",
       "      <th>...</th>\n",
       "      <th>DestState</th>\n",
       "      <th>DestStateFips</th>\n",
       "      <th>DestStateName</th>\n",
       "      <th>DestWac</th>\n",
       "      <th>DepTimeBlk</th>\n",
       "      <th>CRSArrTime</th>\n",
       "      <th>ArrDel15</th>\n",
       "      <th>ArrTimeBlk</th>\n",
       "      <th>DistanceGroup</th>\n",
       "      <th>Disruption</th>\n",
       "    </tr>\n",
       "  </thead>\n",
       "  <tbody>\n",
       "    <tr>\n",
       "      <th>0</th>\n",
       "      <td>2018-07-13</td>\n",
       "      <td>United Air Lines Inc.</td>\n",
       "      <td>LAX</td>\n",
       "      <td>ORD</td>\n",
       "      <td>0</td>\n",
       "      <td>0</td>\n",
       "      <td>1845</td>\n",
       "      <td>231</td>\n",
       "      <td>1744</td>\n",
       "      <td>2018</td>\n",
       "      <td>...</td>\n",
       "      <td>IL</td>\n",
       "      <td>17</td>\n",
       "      <td>Illinois</td>\n",
       "      <td>41</td>\n",
       "      <td>1800-1859</td>\n",
       "      <td>36</td>\n",
       "      <td>0.0</td>\n",
       "      <td>0001-0559</td>\n",
       "      <td>7</td>\n",
       "      <td>0.0</td>\n",
       "    </tr>\n",
       "    <tr>\n",
       "      <th>1</th>\n",
       "      <td>2018-06-26</td>\n",
       "      <td>Mesa Airlines Inc.</td>\n",
       "      <td>CRP</td>\n",
       "      <td>IAH</td>\n",
       "      <td>0</td>\n",
       "      <td>0</td>\n",
       "      <td>1757</td>\n",
       "      <td>60</td>\n",
       "      <td>201</td>\n",
       "      <td>2018</td>\n",
       "      <td>...</td>\n",
       "      <td>TX</td>\n",
       "      <td>48</td>\n",
       "      <td>Texas</td>\n",
       "      <td>74</td>\n",
       "      <td>1700-1759</td>\n",
       "      <td>1857</td>\n",
       "      <td>0.0</td>\n",
       "      <td>1800-1859</td>\n",
       "      <td>1</td>\n",
       "      <td>0.0</td>\n",
       "    </tr>\n",
       "    <tr>\n",
       "      <th>2</th>\n",
       "      <td>2018-07-03</td>\n",
       "      <td>Southwest Airlines Co.</td>\n",
       "      <td>ECP</td>\n",
       "      <td>HOU</td>\n",
       "      <td>0</td>\n",
       "      <td>0</td>\n",
       "      <td>945</td>\n",
       "      <td>105</td>\n",
       "      <td>571</td>\n",
       "      <td>2018</td>\n",
       "      <td>...</td>\n",
       "      <td>TX</td>\n",
       "      <td>48</td>\n",
       "      <td>Texas</td>\n",
       "      <td>74</td>\n",
       "      <td>0900-0959</td>\n",
       "      <td>1130</td>\n",
       "      <td>0.0</td>\n",
       "      <td>1100-1159</td>\n",
       "      <td>3</td>\n",
       "      <td>0.0</td>\n",
       "    </tr>\n",
       "    <tr>\n",
       "      <th>3</th>\n",
       "      <td>2018-10-28</td>\n",
       "      <td>United Air Lines Inc.</td>\n",
       "      <td>LAS</td>\n",
       "      <td>IAH</td>\n",
       "      <td>0</td>\n",
       "      <td>0</td>\n",
       "      <td>1015</td>\n",
       "      <td>171</td>\n",
       "      <td>1222</td>\n",
       "      <td>2018</td>\n",
       "      <td>...</td>\n",
       "      <td>TX</td>\n",
       "      <td>48</td>\n",
       "      <td>Texas</td>\n",
       "      <td>74</td>\n",
       "      <td>1000-1059</td>\n",
       "      <td>1506</td>\n",
       "      <td>0.0</td>\n",
       "      <td>1500-1559</td>\n",
       "      <td>5</td>\n",
       "      <td>0.0</td>\n",
       "    </tr>\n",
       "    <tr>\n",
       "      <th>4</th>\n",
       "      <td>2018-11-01</td>\n",
       "      <td>ExpressJet Airlines Inc.</td>\n",
       "      <td>IAH</td>\n",
       "      <td>TUL</td>\n",
       "      <td>0</td>\n",
       "      <td>0</td>\n",
       "      <td>1856</td>\n",
       "      <td>90</td>\n",
       "      <td>429</td>\n",
       "      <td>2018</td>\n",
       "      <td>...</td>\n",
       "      <td>OK</td>\n",
       "      <td>40</td>\n",
       "      <td>Oklahoma</td>\n",
       "      <td>73</td>\n",
       "      <td>1800-1859</td>\n",
       "      <td>2026</td>\n",
       "      <td>0.0</td>\n",
       "      <td>2000-2059</td>\n",
       "      <td>2</td>\n",
       "      <td>0.0</td>\n",
       "    </tr>\n",
       "  </tbody>\n",
       "</table>\n",
       "<p>5 rows × 46 columns</p>\n",
       "</div>"
      ],
      "text/plain": [
       "   FlightDate                   Airline Origin Dest  Cancelled  Diverted  \\\n",
       "0  2018-07-13     United Air Lines Inc.    LAX  ORD          0         0   \n",
       "1  2018-06-26        Mesa Airlines Inc.    CRP  IAH          0         0   \n",
       "2  2018-07-03    Southwest Airlines Co.    ECP  HOU          0         0   \n",
       "3  2018-10-28     United Air Lines Inc.    LAS  IAH          0         0   \n",
       "4  2018-11-01  ExpressJet Airlines Inc.    IAH  TUL          0         0   \n",
       "\n",
       "   CRSDepTime  CRSElapsedTime  Distance  Year  ...  DestState  DestStateFips  \\\n",
       "0        1845             231      1744  2018  ...         IL             17   \n",
       "1        1757              60       201  2018  ...         TX             48   \n",
       "2         945             105       571  2018  ...         TX             48   \n",
       "3        1015             171      1222  2018  ...         TX             48   \n",
       "4        1856              90       429  2018  ...         OK             40   \n",
       "\n",
       "   DestStateName  DestWac DepTimeBlk CRSArrTime  ArrDel15 ArrTimeBlk  \\\n",
       "0       Illinois       41  1800-1859         36       0.0  0001-0559   \n",
       "1          Texas       74  1700-1759       1857       0.0  1800-1859   \n",
       "2          Texas       74  0900-0959       1130       0.0  1100-1159   \n",
       "3          Texas       74  1000-1059       1506       0.0  1500-1559   \n",
       "4       Oklahoma       73  1800-1859       2026       0.0  2000-2059   \n",
       "\n",
       "   DistanceGroup Disruption  \n",
       "0              7        0.0  \n",
       "1              1        0.0  \n",
       "2              3        0.0  \n",
       "3              5        0.0  \n",
       "4              2        0.0  \n",
       "\n",
       "[5 rows x 46 columns]"
      ]
     },
     "execution_count": 3,
     "metadata": {},
     "output_type": "execute_result"
    }
   ],
   "source": [
    "flights.head()"
   ]
  },
  {
   "cell_type": "code",
   "execution_count": 4,
   "id": "5df00291",
   "metadata": {
    "scrolled": true
   },
   "outputs": [
    {
     "data": {
      "text/plain": [
       "FlightDate                                    0\n",
       "Airline                                       0\n",
       "Origin                                        0\n",
       "Dest                                          0\n",
       "Cancelled                                     0\n",
       "Diverted                                      0\n",
       "CRSDepTime                                    0\n",
       "CRSElapsedTime                                0\n",
       "Distance                                      0\n",
       "Year                                          0\n",
       "Quarter                                       0\n",
       "Month                                         0\n",
       "DayofMonth                                    0\n",
       "DayOfWeek                                     0\n",
       "Marketing_Airline_Network                     0\n",
       "Operated_or_Branded_Code_Share_Partners       0\n",
       "DOT_ID_Marketing_Airline                      0\n",
       "IATA_Code_Marketing_Airline                   0\n",
       "Flight_Number_Marketing_Airline               0\n",
       "Operating_Airline                             0\n",
       "DOT_ID_Operating_Airline                      0\n",
       "IATA_Code_Operating_Airline                   0\n",
       "Tail_Number                                2696\n",
       "Flight_Number_Operating_Airline               0\n",
       "OriginAirportID                               0\n",
       "OriginAirportSeqID                            0\n",
       "OriginCityMarketID                            0\n",
       "OriginCityName                                0\n",
       "OriginState                                   0\n",
       "OriginStateFips                               0\n",
       "OriginStateName                               0\n",
       "OriginWac                                     0\n",
       "DestAirportID                                 0\n",
       "DestAirportSeqID                              0\n",
       "DestCityMarketID                              0\n",
       "DestCityName                                  0\n",
       "DestState                                     0\n",
       "DestStateFips                                 0\n",
       "DestStateName                                 0\n",
       "DestWac                                       0\n",
       "DepTimeBlk                                    0\n",
       "CRSArrTime                                    0\n",
       "ArrDel15                                   8483\n",
       "ArrTimeBlk                                    0\n",
       "DistanceGroup                                 0\n",
       "Disruption                                   10\n",
       "dtype: int64"
      ]
     },
     "execution_count": 4,
     "metadata": {},
     "output_type": "execute_result"
    }
   ],
   "source": [
    "#Check which attribute has null value\n",
    "na_rows = flights.isna().sum(axis=0)\n",
    "na_rows"
   ]
  },
  {
   "cell_type": "markdown",
   "id": "364d6b63",
   "metadata": {},
   "source": [
    "There are missing values in \"disruption\" in medium dataset "
   ]
  },
  {
   "cell_type": "code",
   "execution_count": 5,
   "id": "a45f4a19",
   "metadata": {
    "scrolled": true
   },
   "outputs": [],
   "source": [
    " # Drop rows with NaN values\n",
    "flights = flights.dropna(subset=[\"Disruption\"])"
   ]
  },
  {
   "cell_type": "code",
   "execution_count": 6,
   "id": "0f2c0941",
   "metadata": {},
   "outputs": [
    {
     "data": {
      "text/plain": [
       "0.0    233031\n",
       "1.0     58894\n",
       "Name: Disruption, dtype: int64"
      ]
     },
     "execution_count": 6,
     "metadata": {},
     "output_type": "execute_result"
    }
   ],
   "source": [
    "# View the distribution of the target variable\n",
    "flights[\"Disruption\"].value_counts()"
   ]
  },
  {
   "cell_type": "markdown",
   "id": "34f65f92",
   "metadata": {},
   "source": [
    "### 1.2 create test set "
   ]
  },
  {
   "cell_type": "code",
   "execution_count": 7,
   "id": "5ac0ced3",
   "metadata": {},
   "outputs": [],
   "source": [
    "# Select feature column\n",
    "X = flights[['Year','Month','DayOfWeek', 'CRSDepTime','CRSArrTime', # features related to time\n",
    "             'Distance', 'Dest','Origin', # features related to geographical location\n",
    "             'Operating_Airline']] # features related to airlines\n",
    "\n",
    "# Select target feature column\n",
    "y = flights['Disruption']"
   ]
  },
  {
   "cell_type": "code",
   "execution_count": 8,
   "id": "8876b236",
   "metadata": {},
   "outputs": [],
   "source": [
    "# Divide the data set into training set and test set\n",
    "X_train, X_test, y_train, y_test = train_test_split(X, y, test_size=0.2, random_state=42, stratify=y)"
   ]
  },
  {
   "cell_type": "code",
   "execution_count": 9,
   "id": "225de73e",
   "metadata": {},
   "outputs": [],
   "source": [
    "# Further divide 20% validation set from the training set\n",
    "X_train, X_val, y_train, y_val = train_test_split(X_train, y_train, test_size=0.2, random_state=5059, stratify=y_train)"
   ]
  },
  {
   "cell_type": "code",
   "execution_count": 10,
   "id": "746b93a8",
   "metadata": {},
   "outputs": [
    {
     "name": "stdout",
     "output_type": "stream",
     "text": [
      "Number of training sets: 186832 Number of validation sets: 46708 Number of test sets: 58385\n",
      "Number of training target: 186832 Number of validation target: 46708 Number of test target: 58385\n"
     ]
    }
   ],
   "source": [
    "# Check the allocated quantity\n",
    "print(\"Number of training sets:\", len(X_train), \"Number of validation sets:\", len(X_val), \"Number of test sets:\", len(X_test))\n",
    "print(\"Number of training target:\", len(y_train), \"Number of validation target:\", len(y_val), \"Number of test target:\", len(y_test))"
   ]
  },
  {
   "cell_type": "code",
   "execution_count": 11,
   "id": "b259470e",
   "metadata": {},
   "outputs": [
    {
     "data": {
      "text/plain": [
       "0.0    0.798253\n",
       "1.0    0.201747\n",
       "Name: Disruption, dtype: float64"
      ]
     },
     "execution_count": 11,
     "metadata": {},
     "output_type": "execute_result"
    }
   ],
   "source": [
    "# \"disruptiong\" proportion in test set\n",
    "y_test.value_counts() / len(y_test)"
   ]
  },
  {
   "cell_type": "code",
   "execution_count": 12,
   "id": "b8fdb37d",
   "metadata": {
    "scrolled": true
   },
   "outputs": [
    {
     "data": {
      "text/plain": [
       "0.0    0.798257\n",
       "1.0    0.201743\n",
       "Name: Disruption, dtype: float64"
      ]
     },
     "execution_count": 12,
     "metadata": {},
     "output_type": "execute_result"
    }
   ],
   "source": [
    "# \"disruptiong\" Proportion in training set\n",
    "y_train.value_counts() / len(y_train)"
   ]
  },
  {
   "cell_type": "markdown",
   "id": "f4b55ce7",
   "metadata": {},
   "source": [
    "#### Check size and type of data"
   ]
  },
  {
   "cell_type": "code",
   "execution_count": 13,
   "id": "9b467745",
   "metadata": {},
   "outputs": [
    {
     "data": {
      "text/html": [
       "<div>\n",
       "<style scoped>\n",
       "    .dataframe tbody tr th:only-of-type {\n",
       "        vertical-align: middle;\n",
       "    }\n",
       "\n",
       "    .dataframe tbody tr th {\n",
       "        vertical-align: top;\n",
       "    }\n",
       "\n",
       "    .dataframe thead th {\n",
       "        text-align: right;\n",
       "    }\n",
       "</style>\n",
       "<table border=\"1\" class=\"dataframe\">\n",
       "  <thead>\n",
       "    <tr style=\"text-align: right;\">\n",
       "      <th></th>\n",
       "      <th>Year</th>\n",
       "      <th>Month</th>\n",
       "      <th>DayOfWeek</th>\n",
       "      <th>CRSDepTime</th>\n",
       "      <th>CRSArrTime</th>\n",
       "      <th>Distance</th>\n",
       "      <th>Dest</th>\n",
       "      <th>Origin</th>\n",
       "      <th>Operating_Airline</th>\n",
       "    </tr>\n",
       "  </thead>\n",
       "  <tbody>\n",
       "    <tr>\n",
       "      <th>175018</th>\n",
       "      <td>2020</td>\n",
       "      <td>3</td>\n",
       "      <td>3</td>\n",
       "      <td>1400</td>\n",
       "      <td>1655</td>\n",
       "      <td>632</td>\n",
       "      <td>AVP</td>\n",
       "      <td>ORD</td>\n",
       "      <td>ZW</td>\n",
       "    </tr>\n",
       "    <tr>\n",
       "      <th>171376</th>\n",
       "      <td>2020</td>\n",
       "      <td>8</td>\n",
       "      <td>2</td>\n",
       "      <td>1120</td>\n",
       "      <td>1315</td>\n",
       "      <td>651</td>\n",
       "      <td>PHX</td>\n",
       "      <td>SFO</td>\n",
       "      <td>UA</td>\n",
       "    </tr>\n",
       "    <tr>\n",
       "      <th>284812</th>\n",
       "      <td>2022</td>\n",
       "      <td>3</td>\n",
       "      <td>4</td>\n",
       "      <td>605</td>\n",
       "      <td>725</td>\n",
       "      <td>220</td>\n",
       "      <td>BWI</td>\n",
       "      <td>ISP</td>\n",
       "      <td>WN</td>\n",
       "    </tr>\n",
       "    <tr>\n",
       "      <th>5980</th>\n",
       "      <td>2018</td>\n",
       "      <td>4</td>\n",
       "      <td>1</td>\n",
       "      <td>800</td>\n",
       "      <td>1052</td>\n",
       "      <td>954</td>\n",
       "      <td>SEA</td>\n",
       "      <td>LAX</td>\n",
       "      <td>AS</td>\n",
       "    </tr>\n",
       "    <tr>\n",
       "      <th>93480</th>\n",
       "      <td>2019</td>\n",
       "      <td>3</td>\n",
       "      <td>2</td>\n",
       "      <td>1630</td>\n",
       "      <td>1831</td>\n",
       "      <td>646</td>\n",
       "      <td>ALB</td>\n",
       "      <td>CLT</td>\n",
       "      <td>AA</td>\n",
       "    </tr>\n",
       "  </tbody>\n",
       "</table>\n",
       "</div>"
      ],
      "text/plain": [
       "        Year  Month  DayOfWeek  CRSDepTime  CRSArrTime  Distance Dest Origin  \\\n",
       "175018  2020      3          3        1400        1655       632  AVP    ORD   \n",
       "171376  2020      8          2        1120        1315       651  PHX    SFO   \n",
       "284812  2022      3          4         605         725       220  BWI    ISP   \n",
       "5980    2018      4          1         800        1052       954  SEA    LAX   \n",
       "93480   2019      3          2        1630        1831       646  ALB    CLT   \n",
       "\n",
       "       Operating_Airline  \n",
       "175018                ZW  \n",
       "171376                UA  \n",
       "284812                WN  \n",
       "5980                  AS  \n",
       "93480                 AA  "
      ]
     },
     "execution_count": 13,
     "metadata": {},
     "output_type": "execute_result"
    }
   ],
   "source": [
    "X_train.head()"
   ]
  },
  {
   "cell_type": "code",
   "execution_count": 14,
   "id": "50a668c6",
   "metadata": {},
   "outputs": [
    {
     "name": "stdout",
     "output_type": "stream",
     "text": [
      "<class 'pandas.core.frame.DataFrame'>\n",
      "Int64Index: 186832 entries, 175018 to 103422\n",
      "Data columns (total 9 columns):\n",
      " #   Column             Non-Null Count   Dtype \n",
      "---  ------             --------------   ----- \n",
      " 0   Year               186832 non-null  int64 \n",
      " 1   Month              186832 non-null  int64 \n",
      " 2   DayOfWeek          186832 non-null  int64 \n",
      " 3   CRSDepTime         186832 non-null  int64 \n",
      " 4   CRSArrTime         186832 non-null  int64 \n",
      " 5   Distance           186832 non-null  int64 \n",
      " 6   Dest               186832 non-null  object\n",
      " 7   Origin             186832 non-null  object\n",
      " 8   Operating_Airline  186832 non-null  object\n",
      "dtypes: int64(6), object(3)\n",
      "memory usage: 14.3+ MB\n"
     ]
    }
   ],
   "source": [
    "# check data information\n",
    "X_train.info()"
   ]
  },
  {
   "cell_type": "code",
   "execution_count": 15,
   "id": "11fcdbec",
   "metadata": {},
   "outputs": [
    {
     "data": {
      "text/html": [
       "<div>\n",
       "<style scoped>\n",
       "    .dataframe tbody tr th:only-of-type {\n",
       "        vertical-align: middle;\n",
       "    }\n",
       "\n",
       "    .dataframe tbody tr th {\n",
       "        vertical-align: top;\n",
       "    }\n",
       "\n",
       "    .dataframe thead th {\n",
       "        text-align: right;\n",
       "    }\n",
       "</style>\n",
       "<table border=\"1\" class=\"dataframe\">\n",
       "  <thead>\n",
       "    <tr style=\"text-align: right;\">\n",
       "      <th></th>\n",
       "      <th>Year</th>\n",
       "      <th>Month</th>\n",
       "      <th>DayOfWeek</th>\n",
       "      <th>CRSDepTime</th>\n",
       "      <th>CRSArrTime</th>\n",
       "      <th>Distance</th>\n",
       "    </tr>\n",
       "  </thead>\n",
       "  <tbody>\n",
       "    <tr>\n",
       "      <th>count</th>\n",
       "      <td>186832.000000</td>\n",
       "      <td>186832.000000</td>\n",
       "      <td>186832.000000</td>\n",
       "      <td>186832.000000</td>\n",
       "      <td>186832.000000</td>\n",
       "      <td>186832.000000</td>\n",
       "    </tr>\n",
       "    <tr>\n",
       "      <th>mean</th>\n",
       "      <td>2019.831367</td>\n",
       "      <td>6.323756</td>\n",
       "      <td>3.981438</td>\n",
       "      <td>1329.189025</td>\n",
       "      <td>1493.168997</td>\n",
       "      <td>779.416422</td>\n",
       "    </tr>\n",
       "    <tr>\n",
       "      <th>std</th>\n",
       "      <td>1.343585</td>\n",
       "      <td>3.449104</td>\n",
       "      <td>2.005879</td>\n",
       "      <td>482.537468</td>\n",
       "      <td>507.411955</td>\n",
       "      <td>580.511536</td>\n",
       "    </tr>\n",
       "    <tr>\n",
       "      <th>min</th>\n",
       "      <td>2018.000000</td>\n",
       "      <td>1.000000</td>\n",
       "      <td>1.000000</td>\n",
       "      <td>1.000000</td>\n",
       "      <td>1.000000</td>\n",
       "      <td>27.000000</td>\n",
       "    </tr>\n",
       "    <tr>\n",
       "      <th>25%</th>\n",
       "      <td>2019.000000</td>\n",
       "      <td>3.000000</td>\n",
       "      <td>2.000000</td>\n",
       "      <td>920.000000</td>\n",
       "      <td>1110.000000</td>\n",
       "      <td>355.000000</td>\n",
       "    </tr>\n",
       "    <tr>\n",
       "      <th>50%</th>\n",
       "      <td>2020.000000</td>\n",
       "      <td>6.000000</td>\n",
       "      <td>4.000000</td>\n",
       "      <td>1322.000000</td>\n",
       "      <td>1519.000000</td>\n",
       "      <td>628.000000</td>\n",
       "    </tr>\n",
       "    <tr>\n",
       "      <th>75%</th>\n",
       "      <td>2021.000000</td>\n",
       "      <td>9.000000</td>\n",
       "      <td>6.000000</td>\n",
       "      <td>1730.000000</td>\n",
       "      <td>1917.000000</td>\n",
       "      <td>1014.000000</td>\n",
       "    </tr>\n",
       "    <tr>\n",
       "      <th>max</th>\n",
       "      <td>2022.000000</td>\n",
       "      <td>12.000000</td>\n",
       "      <td>7.000000</td>\n",
       "      <td>2359.000000</td>\n",
       "      <td>2400.000000</td>\n",
       "      <td>5095.000000</td>\n",
       "    </tr>\n",
       "  </tbody>\n",
       "</table>\n",
       "</div>"
      ],
      "text/plain": [
       "                Year          Month      DayOfWeek     CRSDepTime  \\\n",
       "count  186832.000000  186832.000000  186832.000000  186832.000000   \n",
       "mean     2019.831367       6.323756       3.981438    1329.189025   \n",
       "std         1.343585       3.449104       2.005879     482.537468   \n",
       "min      2018.000000       1.000000       1.000000       1.000000   \n",
       "25%      2019.000000       3.000000       2.000000     920.000000   \n",
       "50%      2020.000000       6.000000       4.000000    1322.000000   \n",
       "75%      2021.000000       9.000000       6.000000    1730.000000   \n",
       "max      2022.000000      12.000000       7.000000    2359.000000   \n",
       "\n",
       "          CRSArrTime       Distance  \n",
       "count  186832.000000  186832.000000  \n",
       "mean     1493.168997     779.416422  \n",
       "std       507.411955     580.511536  \n",
       "min         1.000000      27.000000  \n",
       "25%      1110.000000     355.000000  \n",
       "50%      1519.000000     628.000000  \n",
       "75%      1917.000000    1014.000000  \n",
       "max      2400.000000    5095.000000  "
      ]
     },
     "execution_count": 15,
     "metadata": {},
     "output_type": "execute_result"
    }
   ],
   "source": [
    "# check data information\n",
    "X_train.describe()"
   ]
  },
  {
   "cell_type": "code",
   "execution_count": 16,
   "id": "ced34f18",
   "metadata": {},
   "outputs": [
    {
     "data": {
      "text/plain": [
       "Year                    5\n",
       "Month                  12\n",
       "DayOfWeek               7\n",
       "CRSDepTime           1291\n",
       "CRSArrTime           1371\n",
       "Distance             1645\n",
       "Dest                  384\n",
       "Origin                387\n",
       "Operating_Airline      28\n",
       "dtype: int64"
      ]
     },
     "execution_count": 16,
     "metadata": {},
     "output_type": "execute_result"
    }
   ],
   "source": [
    "# check the number of categories for each variable\n",
    "X_train.nunique()"
   ]
  },
  {
   "cell_type": "markdown",
   "id": "ed16128b",
   "metadata": {},
   "source": [
    "## 2. data exploration"
   ]
  },
  {
   "cell_type": "code",
   "execution_count": 17,
   "id": "2c811ce8",
   "metadata": {},
   "outputs": [
    {
     "data": {
      "image/png": "[encoded data removed]",
      "text/plain": [
       "<Figure size 2000x1200 with 6 Axes>"
      ]
     },
     "metadata": {},
     "output_type": "display_data"
    }
   ],
   "source": [
    "# Histogram to see data distribution of X_train \n",
    "X_train.hist(bins=50,figsize=(20,12))\n",
    "plt.show()"
   ]
  },
  {
   "cell_type": "markdown",
   "id": "e3728182",
   "metadata": {},
   "source": [
    "* The number of flights is evenly distributed across months and weeks.\n",
    "* Distribution varies in different years.\n",
    "* Estimated departure and arrival time distributions have peaks.\n",
    "* The distance distribution exhibits right-skewed distribution characteristics. There are more shorter-distance flights than longer-distance flights, with a clear peak. The number of flights decreases as distance increases, likely reflecting high demand for shorter-haul flights and limited supply of longer ranges."
   ]
  },
  {
   "cell_type": "code",
   "execution_count": 18,
   "id": "1c7c9638",
   "metadata": {
    "scrolled": true
   },
   "outputs": [
    {
     "data": {
      "image/png": "[encoded data removed]",
      "text/plain": [
       "<Figure size 500x300 with 1 Axes>"
      ]
     },
     "metadata": {},
     "output_type": "display_data"
    }
   ],
   "source": [
    "# Histogram to see the distribution of y_train(Disruption) data\n",
    "y_train.hist(bins=50,figsize=(5,3))\n",
    "plt.show()"
   ]
  },
  {
   "cell_type": "markdown",
   "id": "57d6eaf3",
   "metadata": {},
   "source": [
    "#### check the number of scheduled and delayed flights under different conditions"
   ]
  },
  {
   "cell_type": "code",
   "execution_count": 19,
   "id": "9a90f2c4",
   "metadata": {
    "scrolled": false
   },
   "outputs": [
    {
     "data": {
      "image/png": "[encoded data removed]",
      "text/plain": [
       "<Figure size 1500x1000 with 4 Axes>"
      ]
     },
     "metadata": {},
     "output_type": "display_data"
    }
   ],
   "source": [
    "# Combine X and y of the train set for data exploration\n",
    "train_combine = pd.concat([X_train, y_train], axis=1) \n",
    "\n",
    "# Set drawing style\n",
    "sns.set(style=\"whitegrid\")\n",
    "fig,axs = plt.subplots(2,2,figsize=(15,10))\n",
    "\n",
    "# Normal and delayed situations for different airlines \n",
    "airline_order = X_train['Operating_Airline'].value_counts().index # Sort by number of operating airlines\n",
    "sns.countplot(data=train_combine, y='Operating_Airline', order=airline_order, hue='Disruption', dodge=False, ax=axs[0,0])\n",
    "axs[0, 0].legend(loc='best', title='Disruption')  # Specify subplot for legend\n",
    "\n",
    "# Normal and delayed situations in different year \n",
    "sns.countplot(data=train_combine, y='Year', hue='Disruption', dodge=False, ax=axs[0,1])\n",
    "axs[0, 1].legend(loc='best', title='Disruption')  # Specify subplot for legend\n",
    "\n",
    "# Normal and delayed situations in different months \n",
    "sns.countplot(data=train_combine, y='Month', hue='Disruption', dodge=False,ax=axs[1,0])\n",
    "axs[1, 0].legend(loc='best', title='Disruption')  # Specify subplot for legend\n",
    "\n",
    "# Normal and delayed situations on different weekdays \n",
    "sns.countplot(data=train_combine, y='DayOfWeek', hue='Disruption', dodge=False, ax=axs[1,1])\n",
    "axs[1, 1].legend(loc='best', title='Disruption')\n",
    "\n",
    "plt.tight_layout()\n",
    "plt.show()"
   ]
  },
  {
   "cell_type": "markdown",
   "id": "76fa676e",
   "metadata": {},
   "source": [
    "#### visualise the impact of COVID-19 during the data exploration"
   ]
  },
  {
   "cell_type": "code",
   "execution_count": 20,
   "id": "a0fa3d3c",
   "metadata": {},
   "outputs": [
    {
     "data": {
      "image/png": "[encoded data removed]",
      "text/plain": [
       "<Figure size 600x300 with 1 Axes>"
      ]
     },
     "metadata": {},
     "output_type": "display_data"
    }
   ],
   "source": [
    "# Group by year and count the number of flights\n",
    "flights_per_year = train_combine.groupby('Year').size()\n",
    "\n",
    "# Plot the data\n",
    "sns.set(style=\"white\")\n",
    "plt.figure(figsize=(6, 3))\n",
    "flights_per_year.plot()\n",
    "plt.title('Number of Flights During COVID-19 Pandemic')\n",
    "plt.xlabel('Year')\n",
    "plt.ylabel('Number of Flights')\n",
    "plt.show()"
   ]
  },
  {
   "cell_type": "markdown",
   "id": "dd4f8b15",
   "metadata": {},
   "source": [
    "* A significant reduction in flight numbers could be seen in 2020 and 2021"
   ]
  },
  {
   "cell_type": "code",
   "execution_count": 21,
   "id": "251e1034",
   "metadata": {
    "scrolled": true
   },
   "outputs": [
    {
     "data": {
      "text/html": [
       "<div>\n",
       "<style scoped>\n",
       "    .dataframe tbody tr th:only-of-type {\n",
       "        vertical-align: middle;\n",
       "    }\n",
       "\n",
       "    .dataframe tbody tr th {\n",
       "        vertical-align: top;\n",
       "    }\n",
       "\n",
       "    .dataframe thead th {\n",
       "        text-align: right;\n",
       "    }\n",
       "</style>\n",
       "<table border=\"1\" class=\"dataframe\">\n",
       "  <thead>\n",
       "    <tr style=\"text-align: right;\">\n",
       "      <th></th>\n",
       "      <th>Year</th>\n",
       "      <th>Ontime_flights</th>\n",
       "      <th>Disruption_flights</th>\n",
       "      <th>Total_flights</th>\n",
       "      <th>Ontime_per</th>\n",
       "      <th>Disruption_per</th>\n",
       "    </tr>\n",
       "  </thead>\n",
       "  <tbody>\n",
       "    <tr>\n",
       "      <th>0</th>\n",
       "      <td>2018</td>\n",
       "      <td>45051</td>\n",
       "      <td>11834</td>\n",
       "      <td>56885</td>\n",
       "      <td>0.791966</td>\n",
       "      <td>0.208034</td>\n",
       "    </tr>\n",
       "    <tr>\n",
       "      <th>1</th>\n",
       "      <td>2019</td>\n",
       "      <td>63771</td>\n",
       "      <td>17145</td>\n",
       "      <td>80916</td>\n",
       "      <td>0.788114</td>\n",
       "      <td>0.211886</td>\n",
       "    </tr>\n",
       "    <tr>\n",
       "      <th>2</th>\n",
       "      <td>2020</td>\n",
       "      <td>42484</td>\n",
       "      <td>7739</td>\n",
       "      <td>50223</td>\n",
       "      <td>0.845907</td>\n",
       "      <td>0.154093</td>\n",
       "    </tr>\n",
       "    <tr>\n",
       "      <th>3</th>\n",
       "      <td>2021</td>\n",
       "      <td>50874</td>\n",
       "      <td>12244</td>\n",
       "      <td>63118</td>\n",
       "      <td>0.806014</td>\n",
       "      <td>0.193986</td>\n",
       "    </tr>\n",
       "    <tr>\n",
       "      <th>4</th>\n",
       "      <td>2022</td>\n",
       "      <td>30851</td>\n",
       "      <td>9932</td>\n",
       "      <td>40783</td>\n",
       "      <td>0.756467</td>\n",
       "      <td>0.243533</td>\n",
       "    </tr>\n",
       "  </tbody>\n",
       "</table>\n",
       "</div>"
      ],
      "text/plain": [
       "   Year  Ontime_flights  Disruption_flights  Total_flights  Ontime_per  \\\n",
       "0  2018           45051               11834          56885    0.791966   \n",
       "1  2019           63771               17145          80916    0.788114   \n",
       "2  2020           42484                7739          50223    0.845907   \n",
       "3  2021           50874               12244          63118    0.806014   \n",
       "4  2022           30851                9932          40783    0.756467   \n",
       "\n",
       "   Disruption_per  \n",
       "0        0.208034  \n",
       "1        0.211886  \n",
       "2        0.154093  \n",
       "3        0.193986  \n",
       "4        0.243533  "
      ]
     },
     "execution_count": 21,
     "metadata": {},
     "output_type": "execute_result"
    }
   ],
   "source": [
    "# Aggregate the data by year to calculate the total number of on-time and delayed flights for each year\n",
    "# Assuming 'Disruption' column with 0 for on-time and 1 for delayed flights\n",
    "year_flights = flights.groupby('Year')['Disruption'].value_counts().unstack(fill_value=0)\n",
    "year_flights.columns = ['Ontime_flights', 'Disruption_flights']\n",
    "\n",
    "# Calculate the percentages of on-time and delayed flights\n",
    "year_flights['Total_flights'] = year_flights['Ontime_flights'] + year_flights['Disruption_flights']\n",
    "year_flights['Ontime_per'] = year_flights['Ontime_flights'] / year_flights['Total_flights']\n",
    "year_flights['Disruption_per'] = year_flights['Disruption_flights'] / year_flights['Total_flights']\n",
    "\n",
    "# Reset index to make 'Year' a column again for plotting purposes\n",
    "year_flights.reset_index(inplace=True)\n",
    "\n",
    "year_flights"
   ]
  },
  {
   "cell_type": "markdown",
   "id": "815f2994",
   "metadata": {},
   "source": [
    "* Disruption rates in 2020 is the lowest"
   ]
  },
  {
   "cell_type": "code",
   "execution_count": 22,
   "id": "a91b08bc",
   "metadata": {},
   "outputs": [
    {
     "data": {
      "image/png": "[encoded data removed]",
      "text/plain": [
       "<Figure size 600x400 with 1 Axes>"
      ]
     },
     "metadata": {},
     "output_type": "display_data"
    }
   ],
   "source": [
    "#  Create a line chart to show the proportion of on-time and delayed flights over the years\n",
    "plt.figure(figsize=(6, 4))\n",
    "sns.set(style=\"white\")\n",
    "plt.plot(year_flights['Year'], year_flights['Ontime_per'], label='On-time Percentage', color='green')\n",
    "plt.plot(year_flights['Year'], year_flights['Disruption_per'], label='Disruption Percentage', color='red')\n",
    "plt.xlabel('Year')\n",
    "plt.ylabel('Percentage')\n",
    "plt.title('Proportion of On-time and Delayed Flights Over the Years')\n",
    "plt.legend()\n",
    "plt.show()"
   ]
  },
  {
   "cell_type": "markdown",
   "id": "e1ac4cff",
   "metadata": {},
   "source": [
    "## 3.prepare the data"
   ]
  },
  {
   "cell_type": "markdown",
   "id": "0b42991e",
   "metadata": {},
   "source": [
    "### 3.1 encode category feature"
   ]
  },
  {
   "cell_type": "markdown",
   "id": "6c9d3b57",
   "metadata": {},
   "source": [
    "#### train set "
   ]
  },
  {
   "cell_type": "code",
   "execution_count": 23,
   "id": "2fd728bd",
   "metadata": {},
   "outputs": [
    {
     "data": {
      "text/plain": [
       "<186832x799 sparse matrix of type '<class 'numpy.float64'>'\n",
       "\twith 560496 stored elements in Compressed Sparse Row format>"
      ]
     },
     "execution_count": 23,
     "metadata": {},
     "output_type": "execute_result"
    }
   ],
   "source": [
    "# select Category attributes\n",
    "X_train_categorical = X_train[[\"Operating_Airline\",\"Dest\",\"Origin\"]]\n",
    "\n",
    "# define encoder\n",
    "one_hot_encoder = OneHotEncoder(handle_unknown='ignore')\n",
    "# fit and transform train set categorical feature\n",
    "X_train_categorical_encoded = one_hot_encoder.fit_transform(X_train_categorical)\n",
    "X_train_categorical_encoded"
   ]
  },
  {
   "cell_type": "code",
   "execution_count": 24,
   "id": "be6b4260",
   "metadata": {},
   "outputs": [],
   "source": [
    "# Convert to data frame\n",
    "X_train_cat = X_train_categorical_encoded.toarray()\n",
    "X_train_cat = pd.DataFrame(\n",
    "  X_train_cat, \n",
    "  columns=one_hot_encoder.get_feature_names_out(),\n",
    "  index=X_train_categorical.index)"
   ]
  },
  {
   "cell_type": "markdown",
   "id": "da3ba8c8",
   "metadata": {},
   "source": [
    "####  validation set "
   ]
  },
  {
   "cell_type": "code",
   "execution_count": 25,
   "id": "5c5ab913",
   "metadata": {},
   "outputs": [
    {
     "data": {
      "text/plain": [
       "<46708x799 sparse matrix of type '<class 'numpy.float64'>'\n",
       "\twith 140123 stored elements in Compressed Sparse Row format>"
      ]
     },
     "execution_count": 25,
     "metadata": {},
     "output_type": "execute_result"
    }
   ],
   "source": [
    "# validation set \n",
    "\n",
    "# Select category attributes\n",
    "X_val_categorical = X_val[[\"Operating_Airline\",\"Dest\",\"Origin\"]]\n",
    "\n",
    "# use the encoder difined by train set to transform validation set \n",
    "X_val_categorical_encoded = one_hot_encoder.transform(X_val_categorical)\n",
    "X_val_categorical_encoded"
   ]
  },
  {
   "cell_type": "code",
   "execution_count": 26,
   "id": "ceba42ac",
   "metadata": {},
   "outputs": [],
   "source": [
    "# Convert to data frame\n",
    "X_val_cat = X_val_categorical_encoded.toarray()\n",
    "X_val_cat = pd.DataFrame(\n",
    "  X_val_cat, \n",
    "  columns = one_hot_encoder.get_feature_names_out(),\n",
    "  index= X_val_categorical.index)"
   ]
  },
  {
   "cell_type": "markdown",
   "id": "93fc9099",
   "metadata": {},
   "source": [
    "### 3.2 Feature Engineering"
   ]
  },
  {
   "cell_type": "code",
   "execution_count": 27,
   "id": "f3fb041d",
   "metadata": {},
   "outputs": [
    {
     "data": {
      "text/html": [
       "<div>\n",
       "<style scoped>\n",
       "    .dataframe tbody tr th:only-of-type {\n",
       "        vertical-align: middle;\n",
       "    }\n",
       "\n",
       "    .dataframe tbody tr th {\n",
       "        vertical-align: top;\n",
       "    }\n",
       "\n",
       "    .dataframe thead th {\n",
       "        text-align: right;\n",
       "    }\n",
       "</style>\n",
       "<table border=\"1\" class=\"dataframe\">\n",
       "  <thead>\n",
       "    <tr style=\"text-align: right;\">\n",
       "      <th></th>\n",
       "      <th>Year</th>\n",
       "      <th>Month</th>\n",
       "      <th>DayOfWeek</th>\n",
       "      <th>Distance</th>\n",
       "      <th>Dest</th>\n",
       "      <th>Origin</th>\n",
       "      <th>Operating_Airline</th>\n",
       "      <th>CRSDepHour</th>\n",
       "      <th>CRSArrHour</th>\n",
       "    </tr>\n",
       "  </thead>\n",
       "  <tbody>\n",
       "    <tr>\n",
       "      <th>175018</th>\n",
       "      <td>2020</td>\n",
       "      <td>3</td>\n",
       "      <td>3</td>\n",
       "      <td>632</td>\n",
       "      <td>AVP</td>\n",
       "      <td>ORD</td>\n",
       "      <td>ZW</td>\n",
       "      <td>14</td>\n",
       "      <td>16</td>\n",
       "    </tr>\n",
       "    <tr>\n",
       "      <th>171376</th>\n",
       "      <td>2020</td>\n",
       "      <td>8</td>\n",
       "      <td>2</td>\n",
       "      <td>651</td>\n",
       "      <td>PHX</td>\n",
       "      <td>SFO</td>\n",
       "      <td>UA</td>\n",
       "      <td>11</td>\n",
       "      <td>13</td>\n",
       "    </tr>\n",
       "    <tr>\n",
       "      <th>284812</th>\n",
       "      <td>2022</td>\n",
       "      <td>3</td>\n",
       "      <td>4</td>\n",
       "      <td>220</td>\n",
       "      <td>BWI</td>\n",
       "      <td>ISP</td>\n",
       "      <td>WN</td>\n",
       "      <td>6</td>\n",
       "      <td>7</td>\n",
       "    </tr>\n",
       "    <tr>\n",
       "      <th>5980</th>\n",
       "      <td>2018</td>\n",
       "      <td>4</td>\n",
       "      <td>1</td>\n",
       "      <td>954</td>\n",
       "      <td>SEA</td>\n",
       "      <td>LAX</td>\n",
       "      <td>AS</td>\n",
       "      <td>8</td>\n",
       "      <td>10</td>\n",
       "    </tr>\n",
       "    <tr>\n",
       "      <th>93480</th>\n",
       "      <td>2019</td>\n",
       "      <td>3</td>\n",
       "      <td>2</td>\n",
       "      <td>646</td>\n",
       "      <td>ALB</td>\n",
       "      <td>CLT</td>\n",
       "      <td>AA</td>\n",
       "      <td>16</td>\n",
       "      <td>18</td>\n",
       "    </tr>\n",
       "  </tbody>\n",
       "</table>\n",
       "</div>"
      ],
      "text/plain": [
       "        Year  Month  DayOfWeek  Distance Dest Origin Operating_Airline  \\\n",
       "175018  2020      3          3       632  AVP    ORD                ZW   \n",
       "171376  2020      8          2       651  PHX    SFO                UA   \n",
       "284812  2022      3          4       220  BWI    ISP                WN   \n",
       "5980    2018      4          1       954  SEA    LAX                AS   \n",
       "93480   2019      3          2       646  ALB    CLT                AA   \n",
       "\n",
       "        CRSDepHour  CRSArrHour  \n",
       "175018          14          16  \n",
       "171376          11          13  \n",
       "284812           6           7  \n",
       "5980             8          10  \n",
       "93480           16          18  "
      ]
     },
     "execution_count": 27,
     "metadata": {},
     "output_type": "execute_result"
    }
   ],
   "source": [
    "# train set \n",
    "# Feature Engineering\n",
    "# Change CRSDepTime and CRSArrTime to hours\n",
    "\n",
    "X_train['CRSDepHour'] = X_train['CRSDepTime'] // 100\n",
    "X_train['CRSArrHour'] = X_train['CRSArrTime'] // 100\n",
    "\n",
    "# Delete CRSDepTime and CRSArrTime, hours CRSDepHour and CRSArrHour have been extracted\n",
    "X_train.drop(['CRSDepTime', 'CRSArrTime'], axis=1, inplace=True)\n",
    "\n",
    "X_train.head()"
   ]
  },
  {
   "cell_type": "code",
   "execution_count": 28,
   "id": "f3dc9ffd",
   "metadata": {
    "scrolled": true
   },
   "outputs": [
    {
     "data": {
      "text/html": [
       "<div>\n",
       "<style scoped>\n",
       "    .dataframe tbody tr th:only-of-type {\n",
       "        vertical-align: middle;\n",
       "    }\n",
       "\n",
       "    .dataframe tbody tr th {\n",
       "        vertical-align: top;\n",
       "    }\n",
       "\n",
       "    .dataframe thead th {\n",
       "        text-align: right;\n",
       "    }\n",
       "</style>\n",
       "<table border=\"1\" class=\"dataframe\">\n",
       "  <thead>\n",
       "    <tr style=\"text-align: right;\">\n",
       "      <th></th>\n",
       "      <th>Year</th>\n",
       "      <th>Month</th>\n",
       "      <th>DayOfWeek</th>\n",
       "      <th>Distance</th>\n",
       "      <th>Dest</th>\n",
       "      <th>Origin</th>\n",
       "      <th>Operating_Airline</th>\n",
       "      <th>CRSDepHour</th>\n",
       "      <th>CRSArrHour</th>\n",
       "    </tr>\n",
       "  </thead>\n",
       "  <tbody>\n",
       "    <tr>\n",
       "      <th>206560</th>\n",
       "      <td>2021</td>\n",
       "      <td>10</td>\n",
       "      <td>3</td>\n",
       "      <td>399</td>\n",
       "      <td>BOS</td>\n",
       "      <td>DCA</td>\n",
       "      <td>AA</td>\n",
       "      <td>20</td>\n",
       "      <td>21</td>\n",
       "    </tr>\n",
       "    <tr>\n",
       "      <th>99912</th>\n",
       "      <td>2019</td>\n",
       "      <td>9</td>\n",
       "      <td>3</td>\n",
       "      <td>177</td>\n",
       "      <td>ORD</td>\n",
       "      <td>IND</td>\n",
       "      <td>MQ</td>\n",
       "      <td>9</td>\n",
       "      <td>9</td>\n",
       "    </tr>\n",
       "    <tr>\n",
       "      <th>205166</th>\n",
       "      <td>2021</td>\n",
       "      <td>2</td>\n",
       "      <td>7</td>\n",
       "      <td>226</td>\n",
       "      <td>CLT</td>\n",
       "      <td>ATL</td>\n",
       "      <td>OH</td>\n",
       "      <td>13</td>\n",
       "      <td>15</td>\n",
       "    </tr>\n",
       "    <tr>\n",
       "      <th>96208</th>\n",
       "      <td>2019</td>\n",
       "      <td>4</td>\n",
       "      <td>3</td>\n",
       "      <td>227</td>\n",
       "      <td>DCA</td>\n",
       "      <td>RDU</td>\n",
       "      <td>OH</td>\n",
       "      <td>21</td>\n",
       "      <td>22</td>\n",
       "    </tr>\n",
       "    <tr>\n",
       "      <th>250393</th>\n",
       "      <td>2021</td>\n",
       "      <td>8</td>\n",
       "      <td>1</td>\n",
       "      <td>650</td>\n",
       "      <td>AUS</td>\n",
       "      <td>MCI</td>\n",
       "      <td>WN</td>\n",
       "      <td>15</td>\n",
       "      <td>17</td>\n",
       "    </tr>\n",
       "  </tbody>\n",
       "</table>\n",
       "</div>"
      ],
      "text/plain": [
       "        Year  Month  DayOfWeek  Distance Dest Origin Operating_Airline  \\\n",
       "206560  2021     10          3       399  BOS    DCA                AA   \n",
       "99912   2019      9          3       177  ORD    IND                MQ   \n",
       "205166  2021      2          7       226  CLT    ATL                OH   \n",
       "96208   2019      4          3       227  DCA    RDU                OH   \n",
       "250393  2021      8          1       650  AUS    MCI                WN   \n",
       "\n",
       "        CRSDepHour  CRSArrHour  \n",
       "206560          20          21  \n",
       "99912            9           9  \n",
       "205166          13          15  \n",
       "96208           21          22  \n",
       "250393          15          17  "
      ]
     },
     "execution_count": 28,
     "metadata": {},
     "output_type": "execute_result"
    }
   ],
   "source": [
    "# validation set \n",
    "# Feature Engineering\n",
    "# Change CRSDepTime and CRSArrTime to hours\n",
    "\n",
    "X_val['CRSDepHour'] = X_val['CRSDepTime'] // 100\n",
    "X_val['CRSArrHour'] = X_val['CRSArrTime'] // 100\n",
    "\n",
    "# Delete CRSDepTime and CRSArrTime, hours CRSDepHour and CRSArrHour have been extracted\n",
    "X_val.drop(['CRSDepTime', 'CRSArrTime'], axis=1, inplace=True)\n",
    "\n",
    "X_val.head()"
   ]
  },
  {
   "cell_type": "markdown",
   "id": "4cf2997b",
   "metadata": {},
   "source": [
    "#### Combine numerical and categorical "
   ]
  },
  {
   "cell_type": "code",
   "execution_count": 29,
   "id": "796820e1",
   "metadata": {},
   "outputs": [
    {
     "data": {
      "text/html": [
       "<div>\n",
       "<style scoped>\n",
       "    .dataframe tbody tr th:only-of-type {\n",
       "        vertical-align: middle;\n",
       "    }\n",
       "\n",
       "    .dataframe tbody tr th {\n",
       "        vertical-align: top;\n",
       "    }\n",
       "\n",
       "    .dataframe thead th {\n",
       "        text-align: right;\n",
       "    }\n",
       "</style>\n",
       "<table border=\"1\" class=\"dataframe\">\n",
       "  <thead>\n",
       "    <tr style=\"text-align: right;\">\n",
       "      <th></th>\n",
       "      <th>Year</th>\n",
       "      <th>Month</th>\n",
       "      <th>DayOfWeek</th>\n",
       "      <th>Distance</th>\n",
       "      <th>CRSDepHour</th>\n",
       "      <th>CRSArrHour</th>\n",
       "      <th>Operating_Airline_9E</th>\n",
       "      <th>Operating_Airline_9K</th>\n",
       "      <th>Operating_Airline_AA</th>\n",
       "      <th>Operating_Airline_AS</th>\n",
       "      <th>...</th>\n",
       "      <th>Origin_VEL</th>\n",
       "      <th>Origin_VLD</th>\n",
       "      <th>Origin_VPS</th>\n",
       "      <th>Origin_WRG</th>\n",
       "      <th>Origin_WYS</th>\n",
       "      <th>Origin_XNA</th>\n",
       "      <th>Origin_XWA</th>\n",
       "      <th>Origin_YAK</th>\n",
       "      <th>Origin_YKM</th>\n",
       "      <th>Origin_YUM</th>\n",
       "    </tr>\n",
       "  </thead>\n",
       "  <tbody>\n",
       "    <tr>\n",
       "      <th>175018</th>\n",
       "      <td>2020</td>\n",
       "      <td>3</td>\n",
       "      <td>3</td>\n",
       "      <td>632</td>\n",
       "      <td>14</td>\n",
       "      <td>16</td>\n",
       "      <td>0.0</td>\n",
       "      <td>0.0</td>\n",
       "      <td>0.0</td>\n",
       "      <td>0.0</td>\n",
       "      <td>...</td>\n",
       "      <td>0.0</td>\n",
       "      <td>0.0</td>\n",
       "      <td>0.0</td>\n",
       "      <td>0.0</td>\n",
       "      <td>0.0</td>\n",
       "      <td>0.0</td>\n",
       "      <td>0.0</td>\n",
       "      <td>0.0</td>\n",
       "      <td>0.0</td>\n",
       "      <td>0.0</td>\n",
       "    </tr>\n",
       "    <tr>\n",
       "      <th>171376</th>\n",
       "      <td>2020</td>\n",
       "      <td>8</td>\n",
       "      <td>2</td>\n",
       "      <td>651</td>\n",
       "      <td>11</td>\n",
       "      <td>13</td>\n",
       "      <td>0.0</td>\n",
       "      <td>0.0</td>\n",
       "      <td>0.0</td>\n",
       "      <td>0.0</td>\n",
       "      <td>...</td>\n",
       "      <td>0.0</td>\n",
       "      <td>0.0</td>\n",
       "      <td>0.0</td>\n",
       "      <td>0.0</td>\n",
       "      <td>0.0</td>\n",
       "      <td>0.0</td>\n",
       "      <td>0.0</td>\n",
       "      <td>0.0</td>\n",
       "      <td>0.0</td>\n",
       "      <td>0.0</td>\n",
       "    </tr>\n",
       "    <tr>\n",
       "      <th>284812</th>\n",
       "      <td>2022</td>\n",
       "      <td>3</td>\n",
       "      <td>4</td>\n",
       "      <td>220</td>\n",
       "      <td>6</td>\n",
       "      <td>7</td>\n",
       "      <td>0.0</td>\n",
       "      <td>0.0</td>\n",
       "      <td>0.0</td>\n",
       "      <td>0.0</td>\n",
       "      <td>...</td>\n",
       "      <td>0.0</td>\n",
       "      <td>0.0</td>\n",
       "      <td>0.0</td>\n",
       "      <td>0.0</td>\n",
       "      <td>0.0</td>\n",
       "      <td>0.0</td>\n",
       "      <td>0.0</td>\n",
       "      <td>0.0</td>\n",
       "      <td>0.0</td>\n",
       "      <td>0.0</td>\n",
       "    </tr>\n",
       "    <tr>\n",
       "      <th>5980</th>\n",
       "      <td>2018</td>\n",
       "      <td>4</td>\n",
       "      <td>1</td>\n",
       "      <td>954</td>\n",
       "      <td>8</td>\n",
       "      <td>10</td>\n",
       "      <td>0.0</td>\n",
       "      <td>0.0</td>\n",
       "      <td>0.0</td>\n",
       "      <td>1.0</td>\n",
       "      <td>...</td>\n",
       "      <td>0.0</td>\n",
       "      <td>0.0</td>\n",
       "      <td>0.0</td>\n",
       "      <td>0.0</td>\n",
       "      <td>0.0</td>\n",
       "      <td>0.0</td>\n",
       "      <td>0.0</td>\n",
       "      <td>0.0</td>\n",
       "      <td>0.0</td>\n",
       "      <td>0.0</td>\n",
       "    </tr>\n",
       "    <tr>\n",
       "      <th>93480</th>\n",
       "      <td>2019</td>\n",
       "      <td>3</td>\n",
       "      <td>2</td>\n",
       "      <td>646</td>\n",
       "      <td>16</td>\n",
       "      <td>18</td>\n",
       "      <td>0.0</td>\n",
       "      <td>0.0</td>\n",
       "      <td>1.0</td>\n",
       "      <td>0.0</td>\n",
       "      <td>...</td>\n",
       "      <td>0.0</td>\n",
       "      <td>0.0</td>\n",
       "      <td>0.0</td>\n",
       "      <td>0.0</td>\n",
       "      <td>0.0</td>\n",
       "      <td>0.0</td>\n",
       "      <td>0.0</td>\n",
       "      <td>0.0</td>\n",
       "      <td>0.0</td>\n",
       "      <td>0.0</td>\n",
       "    </tr>\n",
       "  </tbody>\n",
       "</table>\n",
       "<p>5 rows × 805 columns</p>\n",
       "</div>"
      ],
      "text/plain": [
       "        Year  Month  DayOfWeek  Distance  CRSDepHour  CRSArrHour  \\\n",
       "175018  2020      3          3       632          14          16   \n",
       "171376  2020      8          2       651          11          13   \n",
       "284812  2022      3          4       220           6           7   \n",
       "5980    2018      4          1       954           8          10   \n",
       "93480   2019      3          2       646          16          18   \n",
       "\n",
       "        Operating_Airline_9E  Operating_Airline_9K  Operating_Airline_AA  \\\n",
       "175018                   0.0                   0.0                   0.0   \n",
       "171376                   0.0                   0.0                   0.0   \n",
       "284812                   0.0                   0.0                   0.0   \n",
       "5980                     0.0                   0.0                   0.0   \n",
       "93480                    0.0                   0.0                   1.0   \n",
       "\n",
       "        Operating_Airline_AS  ...  Origin_VEL  Origin_VLD  Origin_VPS  \\\n",
       "175018                   0.0  ...         0.0         0.0         0.0   \n",
       "171376                   0.0  ...         0.0         0.0         0.0   \n",
       "284812                   0.0  ...         0.0         0.0         0.0   \n",
       "5980                     1.0  ...         0.0         0.0         0.0   \n",
       "93480                    0.0  ...         0.0         0.0         0.0   \n",
       "\n",
       "        Origin_WRG  Origin_WYS  Origin_XNA  Origin_XWA  Origin_YAK  \\\n",
       "175018         0.0         0.0         0.0         0.0         0.0   \n",
       "171376         0.0         0.0         0.0         0.0         0.0   \n",
       "284812         0.0         0.0         0.0         0.0         0.0   \n",
       "5980           0.0         0.0         0.0         0.0         0.0   \n",
       "93480          0.0         0.0         0.0         0.0         0.0   \n",
       "\n",
       "        Origin_YKM  Origin_YUM  \n",
       "175018         0.0         0.0  \n",
       "171376         0.0         0.0  \n",
       "284812         0.0         0.0  \n",
       "5980           0.0         0.0  \n",
       "93480          0.0         0.0  \n",
       "\n",
       "[5 rows x 805 columns]"
      ]
     },
     "execution_count": 29,
     "metadata": {},
     "output_type": "execute_result"
    }
   ],
   "source": [
    "# train set data\n",
    "# Create object to store numeric column\n",
    "X_train_num = X_train.drop(['Operating_Airline',\"Dest\",\"Origin\"], axis=1)\n",
    "\n",
    "# Combine numerical and categorical\n",
    "X_train = pd.concat((X_train_num, X_train_cat), axis=1)\n",
    "X_train.head()"
   ]
  },
  {
   "cell_type": "code",
   "execution_count": 30,
   "id": "06912e53",
   "metadata": {},
   "outputs": [
    {
     "data": {
      "text/html": [
       "<div>\n",
       "<style scoped>\n",
       "    .dataframe tbody tr th:only-of-type {\n",
       "        vertical-align: middle;\n",
       "    }\n",
       "\n",
       "    .dataframe tbody tr th {\n",
       "        vertical-align: top;\n",
       "    }\n",
       "\n",
       "    .dataframe thead th {\n",
       "        text-align: right;\n",
       "    }\n",
       "</style>\n",
       "<table border=\"1\" class=\"dataframe\">\n",
       "  <thead>\n",
       "    <tr style=\"text-align: right;\">\n",
       "      <th></th>\n",
       "      <th>Year</th>\n",
       "      <th>Month</th>\n",
       "      <th>DayOfWeek</th>\n",
       "      <th>Distance</th>\n",
       "      <th>CRSDepHour</th>\n",
       "      <th>CRSArrHour</th>\n",
       "      <th>Operating_Airline_9E</th>\n",
       "      <th>Operating_Airline_9K</th>\n",
       "      <th>Operating_Airline_AA</th>\n",
       "      <th>Operating_Airline_AS</th>\n",
       "      <th>...</th>\n",
       "      <th>Origin_VEL</th>\n",
       "      <th>Origin_VLD</th>\n",
       "      <th>Origin_VPS</th>\n",
       "      <th>Origin_WRG</th>\n",
       "      <th>Origin_WYS</th>\n",
       "      <th>Origin_XNA</th>\n",
       "      <th>Origin_XWA</th>\n",
       "      <th>Origin_YAK</th>\n",
       "      <th>Origin_YKM</th>\n",
       "      <th>Origin_YUM</th>\n",
       "    </tr>\n",
       "  </thead>\n",
       "  <tbody>\n",
       "    <tr>\n",
       "      <th>206560</th>\n",
       "      <td>2021</td>\n",
       "      <td>10</td>\n",
       "      <td>3</td>\n",
       "      <td>399</td>\n",
       "      <td>20</td>\n",
       "      <td>21</td>\n",
       "      <td>0.0</td>\n",
       "      <td>0.0</td>\n",
       "      <td>1.0</td>\n",
       "      <td>0.0</td>\n",
       "      <td>...</td>\n",
       "      <td>0.0</td>\n",
       "      <td>0.0</td>\n",
       "      <td>0.0</td>\n",
       "      <td>0.0</td>\n",
       "      <td>0.0</td>\n",
       "      <td>0.0</td>\n",
       "      <td>0.0</td>\n",
       "      <td>0.0</td>\n",
       "      <td>0.0</td>\n",
       "      <td>0.0</td>\n",
       "    </tr>\n",
       "    <tr>\n",
       "      <th>99912</th>\n",
       "      <td>2019</td>\n",
       "      <td>9</td>\n",
       "      <td>3</td>\n",
       "      <td>177</td>\n",
       "      <td>9</td>\n",
       "      <td>9</td>\n",
       "      <td>0.0</td>\n",
       "      <td>0.0</td>\n",
       "      <td>0.0</td>\n",
       "      <td>0.0</td>\n",
       "      <td>...</td>\n",
       "      <td>0.0</td>\n",
       "      <td>0.0</td>\n",
       "      <td>0.0</td>\n",
       "      <td>0.0</td>\n",
       "      <td>0.0</td>\n",
       "      <td>0.0</td>\n",
       "      <td>0.0</td>\n",
       "      <td>0.0</td>\n",
       "      <td>0.0</td>\n",
       "      <td>0.0</td>\n",
       "    </tr>\n",
       "    <tr>\n",
       "      <th>205166</th>\n",
       "      <td>2021</td>\n",
       "      <td>2</td>\n",
       "      <td>7</td>\n",
       "      <td>226</td>\n",
       "      <td>13</td>\n",
       "      <td>15</td>\n",
       "      <td>0.0</td>\n",
       "      <td>0.0</td>\n",
       "      <td>0.0</td>\n",
       "      <td>0.0</td>\n",
       "      <td>...</td>\n",
       "      <td>0.0</td>\n",
       "      <td>0.0</td>\n",
       "      <td>0.0</td>\n",
       "      <td>0.0</td>\n",
       "      <td>0.0</td>\n",
       "      <td>0.0</td>\n",
       "      <td>0.0</td>\n",
       "      <td>0.0</td>\n",
       "      <td>0.0</td>\n",
       "      <td>0.0</td>\n",
       "    </tr>\n",
       "    <tr>\n",
       "      <th>96208</th>\n",
       "      <td>2019</td>\n",
       "      <td>4</td>\n",
       "      <td>3</td>\n",
       "      <td>227</td>\n",
       "      <td>21</td>\n",
       "      <td>22</td>\n",
       "      <td>0.0</td>\n",
       "      <td>0.0</td>\n",
       "      <td>0.0</td>\n",
       "      <td>0.0</td>\n",
       "      <td>...</td>\n",
       "      <td>0.0</td>\n",
       "      <td>0.0</td>\n",
       "      <td>0.0</td>\n",
       "      <td>0.0</td>\n",
       "      <td>0.0</td>\n",
       "      <td>0.0</td>\n",
       "      <td>0.0</td>\n",
       "      <td>0.0</td>\n",
       "      <td>0.0</td>\n",
       "      <td>0.0</td>\n",
       "    </tr>\n",
       "    <tr>\n",
       "      <th>250393</th>\n",
       "      <td>2021</td>\n",
       "      <td>8</td>\n",
       "      <td>1</td>\n",
       "      <td>650</td>\n",
       "      <td>15</td>\n",
       "      <td>17</td>\n",
       "      <td>0.0</td>\n",
       "      <td>0.0</td>\n",
       "      <td>0.0</td>\n",
       "      <td>0.0</td>\n",
       "      <td>...</td>\n",
       "      <td>0.0</td>\n",
       "      <td>0.0</td>\n",
       "      <td>0.0</td>\n",
       "      <td>0.0</td>\n",
       "      <td>0.0</td>\n",
       "      <td>0.0</td>\n",
       "      <td>0.0</td>\n",
       "      <td>0.0</td>\n",
       "      <td>0.0</td>\n",
       "      <td>0.0</td>\n",
       "    </tr>\n",
       "  </tbody>\n",
       "</table>\n",
       "<p>5 rows × 805 columns</p>\n",
       "</div>"
      ],
      "text/plain": [
       "        Year  Month  DayOfWeek  Distance  CRSDepHour  CRSArrHour  \\\n",
       "206560  2021     10          3       399          20          21   \n",
       "99912   2019      9          3       177           9           9   \n",
       "205166  2021      2          7       226          13          15   \n",
       "96208   2019      4          3       227          21          22   \n",
       "250393  2021      8          1       650          15          17   \n",
       "\n",
       "        Operating_Airline_9E  Operating_Airline_9K  Operating_Airline_AA  \\\n",
       "206560                   0.0                   0.0                   1.0   \n",
       "99912                    0.0                   0.0                   0.0   \n",
       "205166                   0.0                   0.0                   0.0   \n",
       "96208                    0.0                   0.0                   0.0   \n",
       "250393                   0.0                   0.0                   0.0   \n",
       "\n",
       "        Operating_Airline_AS  ...  Origin_VEL  Origin_VLD  Origin_VPS  \\\n",
       "206560                   0.0  ...         0.0         0.0         0.0   \n",
       "99912                    0.0  ...         0.0         0.0         0.0   \n",
       "205166                   0.0  ...         0.0         0.0         0.0   \n",
       "96208                    0.0  ...         0.0         0.0         0.0   \n",
       "250393                   0.0  ...         0.0         0.0         0.0   \n",
       "\n",
       "        Origin_WRG  Origin_WYS  Origin_XNA  Origin_XWA  Origin_YAK  \\\n",
       "206560         0.0         0.0         0.0         0.0         0.0   \n",
       "99912          0.0         0.0         0.0         0.0         0.0   \n",
       "205166         0.0         0.0         0.0         0.0         0.0   \n",
       "96208          0.0         0.0         0.0         0.0         0.0   \n",
       "250393         0.0         0.0         0.0         0.0         0.0   \n",
       "\n",
       "        Origin_YKM  Origin_YUM  \n",
       "206560         0.0         0.0  \n",
       "99912          0.0         0.0  \n",
       "205166         0.0         0.0  \n",
       "96208          0.0         0.0  \n",
       "250393         0.0         0.0  \n",
       "\n",
       "[5 rows x 805 columns]"
      ]
     },
     "execution_count": 30,
     "metadata": {},
     "output_type": "execute_result"
    }
   ],
   "source": [
    "# validation set data\n",
    "# Create object to store numeric column\n",
    "X_val_num = X_val.drop(['Operating_Airline',\"Dest\",\"Origin\"], axis=1)\n",
    "\n",
    "# Combine numerical and categorical\n",
    "X_val = pd.concat((X_val_num, X_val_cat), axis=1)\n",
    "X_val.head()"
   ]
  },
  {
   "cell_type": "markdown",
   "id": "3bfff2ff",
   "metadata": {},
   "source": [
    "## 4. Train model"
   ]
  },
  {
   "cell_type": "markdown",
   "id": "7817ae18",
   "metadata": {},
   "source": [
    "### 4.1 train DecisionTree classifier"
   ]
  },
  {
   "cell_type": "code",
   "execution_count": 31,
   "id": "fd031242",
   "metadata": {},
   "outputs": [],
   "source": [
    "# DecisionTree Classifier\n",
    "from sklearn.tree import DecisionTreeClassifier\n",
    "\n",
    "tree_classifier = DecisionTreeClassifier(random_state=5059)\n",
    "tree_classifier.fit(X_train, y_train) # Train on the training set\n",
    "\n",
    "# Get train predictions\n",
    "y_train_predictions_tree = tree_classifier.predict(X_train)\n",
    "# Get valid predictions\n",
    "y_val_predictions_tree = tree_classifier.predict(X_val)"
   ]
  },
  {
   "cell_type": "markdown",
   "id": "4a40a726",
   "metadata": {},
   "source": [
    "### 4.2 train Random Forest classifier"
   ]
  },
  {
   "cell_type": "code",
   "execution_count": 32,
   "id": "5c4feb48",
   "metadata": {
    "scrolled": true
   },
   "outputs": [],
   "source": [
    "# random forest classifier\n",
    "from sklearn.ensemble import RandomForestClassifier\n",
    "\n",
    "forest_classifier = RandomForestClassifier(n_estimators=50, random_state=5059)\n",
    "forest_classifier.fit(X_train, y_train)\n",
    "\n",
    "# Get train predictions\n",
    "y_train_predictions_Forest = forest_classifier.predict(X_train)\n",
    "# Get valid predictions\n",
    "y_val_predictions_Forest = forest_classifier.predict(X_val)"
   ]
  },
  {
   "cell_type": "markdown",
   "id": "efb53478",
   "metadata": {},
   "source": [
    "### 4.3 train logistic regression model"
   ]
  },
  {
   "cell_type": "code",
   "execution_count": 33,
   "id": "338c61a8",
   "metadata": {},
   "outputs": [],
   "source": [
    "from sklearn.linear_model import LogisticRegression\n",
    "\n",
    "# Create the logistic regression model\n",
    "logistic_model = LogisticRegression(class_weight='balanced', max_iter=1000)\n",
    "\n",
    "# Fit the model to your training data\n",
    "logistic_model.fit(X_train, y_train)\n",
    "\n",
    "# Get train predictions\n",
    "y_train_predictions_logistic = logistic_model.predict(X_train)\n",
    "# Get valid predictions\n",
    "y_val_predictions_logistic = logistic_model.predict(X_val)"
   ]
  },
  {
   "cell_type": "markdown",
   "id": "33930bd0",
   "metadata": {},
   "source": [
    "##  5.Performance Measures"
   ]
  },
  {
   "cell_type": "markdown",
   "id": "8bffc4b3",
   "metadata": {},
   "source": [
    "### 5.1 Accuracy Score"
   ]
  },
  {
   "cell_type": "code",
   "execution_count": 34,
   "id": "85eb3f1c",
   "metadata": {},
   "outputs": [
    {
     "name": "stdout",
     "output_type": "stream",
     "text": [
      "Accuracy Score for Decision Tree: 0.7128115098056007\n",
      "Accuracy Score for Random Forest: 0.7878735976706346\n",
      "Accuracy Score for Logistic Regression: 0.584139761925152\n"
     ]
    }
   ],
   "source": [
    "# accuracy_score\n",
    "accuracy_score_tree = accuracy_score(y_val, y_val_predictions_tree)\n",
    "accuracy_score_forest = accuracy_score(y_val, y_val_predictions_Forest)\n",
    "accuracy_score_log = accuracy_score(y_val, y_val_predictions_logistic)\n",
    "\n",
    "print(f\"Accuracy Score for Decision Tree: {accuracy_score_tree}\")\n",
    "print(f\"Accuracy Score for Random Forest: {accuracy_score_forest}\")\n",
    "print(f\"Accuracy Score for Logistic Regression: {accuracy_score_log}\")"
   ]
  },
  {
   "cell_type": "markdown",
   "id": "48f4440f",
   "metadata": {},
   "source": [
    "### 5.2 precision, recall, f1 score\n",
    "recall, the percentage of we correctly classify \"1\".\n",
    "\n",
    "Precision, the percentage of things we classified as \"1\" that are actually \"1\".\n",
    "\n",
    "The F1 score that balances the precision and recall."
   ]
  },
  {
   "cell_type": "code",
   "execution_count": 35,
   "id": "a566faa5",
   "metadata": {},
   "outputs": [
    {
     "name": "stdout",
     "output_type": "stream",
     "text": [
      "random forest Precision, train: 0.999946239449492 valid: 0.2707639287765652\n",
      "random forest Recall, train: 0.9869468322190386 valid: 0.25013265414411545\n"
     ]
    }
   ],
   "source": [
    "# decison tree\n",
    "# Calculate the precision of the logistic regression training set and validation set respectively\n",
    "train_pr = precision_score(y_train,y_train_predictions_tree )\n",
    "valid_pr = precision_score(y_val, y_val_predictions_tree)\n",
    "\n",
    "# Calculate the Recall of the logistic regression training set and validation set respectively\n",
    "train_recall = recall_score(y_train, y_train_predictions_tree)\n",
    "valid_recall = recall_score(y_val, y_val_predictions_tree)\n",
    "\n",
    "print(\"random forest Precision, train:\", train_pr, \"valid:\", valid_pr)\n",
    "print(\"random forest Recall, train:\", train_recall, \"valid:\", valid_recall)"
   ]
  },
  {
   "cell_type": "code",
   "execution_count": 36,
   "id": "6d6b5bb2",
   "metadata": {},
   "outputs": [
    {
     "name": "stdout",
     "output_type": "stream",
     "text": [
      "random forest Precision, train: 0.9963839931429795 valid: 0.357100766057749\n",
      "random forest Recall, train: 0.9869203013902155 valid: 0.06431072906717605\n"
     ]
    }
   ],
   "source": [
    "# random forest\n",
    "# Calculate the precision of the logistic regression training set and validation set respectively\n",
    "train_pr = precision_score(y_train,y_train_predictions_Forest )\n",
    "valid_pr = precision_score(y_val, y_val_predictions_Forest)\n",
    "\n",
    "# Calculate the Recall of the logistic regression training set and validation set respectively\n",
    "train_recall = recall_score(y_train, y_train_predictions_Forest)\n",
    "valid_recall = recall_score(y_val, y_val_predictions_Forest)\n",
    "\n",
    "print(\"random forest Precision, train:\", train_pr, \"valid:\", valid_pr)\n",
    "print(\"random forest Recall, train:\", train_recall, \"valid:\", valid_recall)"
   ]
  },
  {
   "cell_type": "code",
   "execution_count": 37,
   "id": "cac74b0d",
   "metadata": {},
   "outputs": [
    {
     "name": "stdout",
     "output_type": "stream",
     "text": [
      "logistic_model Precision, train: 0.2631504021638551 valid: 0.26245784048263743\n",
      "logistic_model Recall, train: 0.5885068449538363 valid: 0.5863313169903428\n"
     ]
    }
   ],
   "source": [
    "# logistic regression\n",
    "# Calculate the precision of the training set and validation set respectively\n",
    "train_pr = precision_score(y_train, y_train_predictions_logistic)\n",
    "valid_pr = precision_score(y_val, y_val_predictions_logistic)\n",
    "\n",
    "# Calculate the Recall of training set and validation set respectively\n",
    "train_recall = recall_score(y_train, y_train_predictions_logistic)\n",
    "valid_recall = recall_score(y_val, y_val_predictions_logistic)\n",
    "\n",
    "print(\"logistic_model Precision, train:\", train_pr, \"valid:\", valid_pr)\n",
    "print(\"logistic_model Recall, train:\", train_recall, \"valid:\", valid_recall)"
   ]
  },
  {
   "cell_type": "markdown",
   "id": "1cfc8fda",
   "metadata": {},
   "source": [
    "### 5.3 cross validation"
   ]
  },
  {
   "cell_type": "code",
   "execution_count": 38,
   "id": "1b8aab24",
   "metadata": {},
   "outputs": [
    {
     "name": "stdout",
     "output_type": "stream",
     "text": [
      "[0.71119818 0.71104902 0.70733979]\n"
     ]
    }
   ],
   "source": [
    "# DecisionTree\n",
    "scores_DecisionTree = cross_val_score(tree_classifier, X_train, y_train,cv=3, scoring=\"accuracy\")# splitting the training set into K folds\n",
    "print(scores_DecisionTree)"
   ]
  },
  {
   "cell_type": "code",
   "execution_count": 39,
   "id": "73a5bb83",
   "metadata": {},
   "outputs": [
    {
     "name": "stdout",
     "output_type": "stream",
     "text": [
      "[0.78982947 0.78905535 0.78981004]\n"
     ]
    }
   ],
   "source": [
    "# RandomForest\n",
    "scores_RandomForest = cross_val_score(forest_classifier, X_train, y_train, cv=3, scoring=\"accuracy\") # splitting the training set into K folds\n",
    "print(scores_RandomForest)"
   ]
  },
  {
   "cell_type": "code",
   "execution_count": 40,
   "id": "877e4cde",
   "metadata": {},
   "outputs": [
    {
     "name": "stdout",
     "output_type": "stream",
     "text": [
      "[0.57414296 0.5755078  0.58836911 0.56998341 0.57402451]\n"
     ]
    }
   ],
   "source": [
    "# logistic\n",
    "scores_logistic = cross_val_score(logistic_model, X_train, y_train, cv=5, scoring=\"accuracy\") # splitting the training set into K folds\n",
    "print(scores_logistic)"
   ]
  },
  {
   "cell_type": "markdown",
   "id": "c0aa21a5",
   "metadata": {},
   "source": [
    "### 5.4 Confusion Matrix "
   ]
  },
  {
   "cell_type": "markdown",
   "id": "6134a30c",
   "metadata": {},
   "source": [
    "##### DecisionTree Confusion Matrix"
   ]
  },
  {
   "cell_type": "code",
   "execution_count": 41,
   "id": "0fee513a",
   "metadata": {
    "scrolled": false
   },
   "outputs": [
    {
     "data": {
      "image/png": "[encoded data removed]",
      "text/plain": [
       "<Figure size 1200x400 with 4 Axes>"
      ]
     },
     "metadata": {},
     "output_type": "display_data"
    }
   ],
   "source": [
    "# Calculate the confusion matrix generated by the prediction results of the SGD classifier on the training data\n",
    "matrix_train_tree = confusion_matrix(y_train, y_train_predictions_tree)\n",
    "\n",
    "\n",
    "# Calculate the confusion matrix generated by the prediction results of the SGD classifier on the valid data\n",
    "matrix_val_tree = confusion_matrix(y_val, y_val_predictions_tree)\n",
    "\n",
    "# Visualizing the confusion matrices side by side\n",
    "fig, axes = plt.subplots(1, 2, figsize=(12, 4))\n",
    "\n",
    "# Plot for training data\n",
    "sns.heatmap(matrix_train_tree, annot=True, fmt='d', cmap='binary', annot_kws={\"fontsize\": 12}, ax=axes[0])\n",
    "axes[0].set_title('DecisionTree Confusion Matrix - Training Data')\n",
    "\n",
    "# Plot for validation data\n",
    "sns.heatmap(matrix_val_tree, annot=True, fmt='d', cmap='binary', annot_kws={\"fontsize\": 12}, ax=axes[1])\n",
    "axes[1].set_title('DecisionTree Confusion Matrix - Validation Data')\n",
    "\n",
    "plt.show()"
   ]
  },
  {
   "cell_type": "markdown",
   "id": "9bf40d29",
   "metadata": {},
   "source": [
    "##### Random Forest Confusion Matrix"
   ]
  },
  {
   "cell_type": "code",
   "execution_count": 42,
   "id": "502f6646",
   "metadata": {
    "scrolled": false
   },
   "outputs": [
    {
     "data": {
      "image/png": "[encoded data removed]",
      "text/plain": [
       "<Figure size 1200x400 with 4 Axes>"
      ]
     },
     "metadata": {},
     "output_type": "display_data"
    }
   ],
   "source": [
    "# Calculate the confusion matrix generated by the prediction results of the SGD classifier on the training data\n",
    "matrix_train_forest = confusion_matrix(y_train, y_train_predictions_Forest)\n",
    "\n",
    "\n",
    "# Calculate the confusion matrix generated by the prediction results of the SGD classifier on the valid data\n",
    "matrix_val_forest = confusion_matrix(y_val, y_val_predictions_Forest)\n",
    "\n",
    "# Visualizing the confusion matrices side by side\n",
    "fig, axes = plt.subplots(1, 2, figsize=(12, 4))\n",
    "\n",
    "# Plot for training data\n",
    "sns.heatmap(matrix_train_forest, annot=True, fmt='d', cmap='binary', annot_kws={\"fontsize\": 12}, ax=axes[0])\n",
    "axes[0].set_title('Random Forest Confusion Matrix - Training Data')\n",
    "\n",
    "# Plot for validation data\n",
    "sns.heatmap(matrix_val_forest, annot=True, fmt='d', cmap='binary', annot_kws={\"fontsize\": 12}, ax=axes[1])\n",
    "axes[1].set_title('RandomForest Confusion Matrix - Validation Data')\n",
    "\n",
    "plt.show()"
   ]
  },
  {
   "cell_type": "markdown",
   "id": "1de05be7",
   "metadata": {},
   "source": [
    "##### logistic regression confusion matrix "
   ]
  },
  {
   "cell_type": "code",
   "execution_count": 43,
   "id": "b8cf8f6c",
   "metadata": {},
   "outputs": [
    {
     "data": {
      "image/png": "[encoded data removed]",
      "text/plain": [
       "<Figure size 1200x400 with 4 Axes>"
      ]
     },
     "metadata": {},
     "output_type": "display_data"
    }
   ],
   "source": [
    "\n",
    "# Calculate the confusion matrix generated by the prediction results of the SGD classifier on the training data\n",
    "matrix_train = confusion_matrix(y_train, y_train_predictions_logistic)\n",
    "\n",
    "# Calculate the confusion matrix generated by the prediction results of the SGD classifier on the valid data\n",
    "matrix_val = confusion_matrix(y_val, y_val_predictions_logistic)\n",
    "\n",
    "# Visualizing the confusion matrices side by side\n",
    "fig, axes = plt.subplots(1, 2, figsize=(12, 4))\n",
    "\n",
    "# Plot for training data\n",
    "sns.heatmap(matrix_train, annot=True, fmt='d', cmap='binary', annot_kws={\"fontsize\": 12}, ax=axes[0])\n",
    "axes[0].set_title('logistic regression Confusion Matrix - Training Data')\n",
    "\n",
    "# Plot for validation data\n",
    "sns.heatmap(matrix_val, annot=True, fmt='d', cmap='binary', annot_kws={\"fontsize\": 12}, ax=axes[1])\n",
    "axes[1].set_title('logistic regression Confusion Matrix - Validation Data')\n",
    "\n",
    "plt.show()"
   ]
  },
  {
   "cell_type": "markdown",
   "id": "53e7a84d",
   "metadata": {},
   "source": [
    "### 5.5 ROC CURVES"
   ]
  },
  {
   "cell_type": "code",
   "execution_count": 44,
   "id": "dbd4d40a",
   "metadata": {},
   "outputs": [],
   "source": [
    "# Three important components of ROC curve are calculated: \n",
    "# false positive rate (FPR, False Positive Rate), true rate (TPR, True Positive Rate) and thresholds (thresholds)\n",
    "\n",
    "# Get predicted probabilities for the positive class\n",
    "tree_predictions = tree_classifier.predict_proba(X_val)[:,1]\n",
    "# Compute ROC curve \n",
    "FPR_tree, TPR_tree, thresholds_tree = roc_curve(y_val, tree_predictions)"
   ]
  },
  {
   "cell_type": "code",
   "execution_count": 45,
   "id": "672aaa55",
   "metadata": {},
   "outputs": [],
   "source": [
    "# Get predicted probabilities for the positive class\n",
    "forest_predictions = forest_classifier.predict_proba(X_val)[:,1]\n",
    "# Compute ROC curve \n",
    "FPR_forest, TPR_forest, thresholds_forest = roc_curve(y_val, forest_predictions)"
   ]
  },
  {
   "cell_type": "code",
   "execution_count": 46,
   "id": "829a17e0",
   "metadata": {},
   "outputs": [],
   "source": [
    "# Get predicted probabilities for the positive class\n",
    "logistic_prediction = logistic_model.predict_proba(X_val)[:, 1]\n",
    "\n",
    "# Compute ROC curve \n",
    "FPR_logistics, TPR_logistics, thresholds = roc_curve(y_val, logistic_prediction)"
   ]
  },
  {
   "cell_type": "code",
   "execution_count": 47,
   "id": "b401475c",
   "metadata": {
    "scrolled": false
   },
   "outputs": [
    {
     "data": {
      "image/png": "[encoded data removed]",
      "text/plain": [
       "<Figure size 800x600 with 1 Axes>"
      ]
     },
     "metadata": {},
     "output_type": "display_data"
    }
   ],
   "source": [
    "\n",
    "def plot_roc_curve(fpr, tpr, label=None):\n",
    "             plt.plot(fpr, tpr, linewidth=2, label=label)\n",
    "             plt.plot([0, 1], [0, 1], 'k--') # Dashed diagonal\n",
    "             plt.axis([0, 1, 0, 1])\n",
    "             plt.xlabel('FPR (1 - specificity)', fontsize=16)\n",
    "             plt.ylabel('TPR (recall)', fontsize=16)\n",
    "             plt.grid(True)\n",
    "            \n",
    "# the Random Forest classifier is superior to the DecisionTreeClassifier AND SGD classifier because its ROC curve is much closer to the top-left corner, and it has a greater AUC\n",
    "plt.figure(figsize=(8, 6))\n",
    "plot_roc_curve(FPR_tree, TPR_tree, 'tree')\n",
    "plot_roc_curve(FPR_forest, TPR_forest, 'forest')\n",
    "plot_roc_curve(FPR_logistics, TPR_logistics, 'logistics')\n",
    "plt.legend(loc=\"lower right\")\n",
    "plt.show()"
   ]
  },
  {
   "cell_type": "markdown",
   "id": "440401dc",
   "metadata": {},
   "source": [
    "##### AUC"
   ]
  },
  {
   "cell_type": "code",
   "execution_count": 48,
   "id": "a1c7f97a",
   "metadata": {},
   "outputs": [
    {
     "name": "stdout",
     "output_type": "stream",
     "text": [
      "Decision tree AUC Value: 0.5399387888914662\n"
     ]
    }
   ],
   "source": [
    "# Decision tree AUC Value\n",
    "# The probabilities predicted by the model are tree_predictions\n",
    "auc_value_tree = roc_auc_score(y_val, tree_predictions)\n",
    "print(f\"Decision tree AUC Value: {auc_value_tree}\")"
   ]
  },
  {
   "cell_type": "code",
   "execution_count": 49,
   "id": "6256b54b",
   "metadata": {},
   "outputs": [
    {
     "name": "stdout",
     "output_type": "stream",
     "text": [
      "Random forest AUC Value: 0.618741067236798\n"
     ]
    }
   ],
   "source": [
    "# Random forest AUC Value\n",
    "# The probabilities predicted by the model are tree_predictions\n",
    "auc_value_forest = roc_auc_score(y_val, forest_predictions)\n",
    "print(f\"Random forest AUC Value: {auc_value_forest}\")"
   ]
  },
  {
   "cell_type": "code",
   "execution_count": 50,
   "id": "5e9cbbc7",
   "metadata": {},
   "outputs": [
    {
     "name": "stdout",
     "output_type": "stream",
     "text": [
      "logistic regression AUC Value: 0.6166569573154721\n"
     ]
    }
   ],
   "source": [
    "# logistics regression AUC Value\n",
    "# The probabilities predicted by the model are tree_predictions\n",
    "auc_value_logistic = roc_auc_score(y_val, logistic_prediction)\n",
    "print(f\"logistic regression AUC Value: {auc_value_logistic}\")"
   ]
  },
  {
   "cell_type": "code",
   "execution_count": 51,
   "id": "22aae0f8",
   "metadata": {},
   "outputs": [
    {
     "name": "stdout",
     "output_type": "stream",
     "text": [
      "Decision Tree: 0.5399\n",
      "Random Forest: 0.6187\n",
      "logistic regression: 0.6167\n"
     ]
    }
   ],
   "source": [
    "# Print each row of the table\n",
    "print(f\"Decision Tree: {auc_value_tree:.4f}\")\n",
    "print(f\"Random Forest: {auc_value_forest:.4f}\")\n",
    "print(f\"logistic regression: {auc_value_logistic:.4f}\")"
   ]
  },
  {
   "cell_type": "markdown",
   "id": "f984d493",
   "metadata": {},
   "source": [
    "The AUC (Area Under the Curve) value is the area under the ROC curve, providing a single value that quantifies model performance. The AUC of the Randomforest classifier is the highest among others."
   ]
  },
  {
   "cell_type": "markdown",
   "id": "7588608c",
   "metadata": {},
   "source": [
    "## 5 Fine tune model"
   ]
  },
  {
   "cell_type": "code",
   "execution_count": 52,
   "id": "6e4a0610",
   "metadata": {
    "scrolled": false
   },
   "outputs": [
    {
     "data": {
      "text/plain": [
       "GridSearchCV(cv=5, estimator=RandomForestClassifier(random_state=5059),\n",
       "             param_grid=[{'max_features': [4, 6, 8],\n",
       "                          'n_estimators': [10, 30, 50]}],\n",
       "             return_train_score=True, scoring='accuracy')"
      ]
     },
     "execution_count": 52,
     "metadata": {},
     "output_type": "execute_result"
    }
   ],
   "source": [
    "# performing a grid search for hyperparameter tuning \n",
    "\n",
    "# define a grid of hyperparameter combinations\n",
    "parameter_grid = [\n",
    "    # Try 12 (3×4) combinations of hyperparameters:\n",
    "    {'n_estimators': [10,30,50], # The number of trees in the forest.\n",
    "     'max_features': [4, 6, 8]} # The number of features to consider when looking for the best split\n",
    "]\n",
    "\n",
    "# You create an instance of the RandomForestClassifier with a specified random state\n",
    "forest_classifier = RandomForestClassifier(random_state=5059)\n",
    "\n",
    "# create an instance of GridSearchCV to perform the grid search\n",
    "# Train across 5 folds, giving a total of (3*4)*5=60 rounds of training\n",
    "forest_grid_search = GridSearchCV(\n",
    "    forest_classifier, \n",
    "    parameter_grid, \n",
    "    cv=5,\n",
    "    scoring='accuracy',\n",
    "    return_train_score=True)\n",
    "\n",
    "#  training data, grid search explore all combinations of hyperparameters,it will find the best combination\n",
    "forest_grid_search.fit(X_train, y_train)"
   ]
  },
  {
   "cell_type": "code",
   "execution_count": 53,
   "id": "d61aeda0",
   "metadata": {},
   "outputs": [
    {
     "name": "stdout",
     "output_type": "stream",
     "text": [
      "RandomForestClassifier(max_features=8, n_estimators=50, random_state=5059)\n"
     ]
    }
   ],
   "source": [
    "print(forest_grid_search.best_estimator_)"
   ]
  },
  {
   "cell_type": "code",
   "execution_count": 54,
   "id": "be66fcf3",
   "metadata": {},
   "outputs": [],
   "source": [
    "# Final model uses best parameters from grid search\n",
    "final_model = forest_grid_search.best_estimator_"
   ]
  },
  {
   "cell_type": "markdown",
   "id": "915174b7",
   "metadata": {},
   "source": [
    "## 6. Run final model on test set"
   ]
  },
  {
   "cell_type": "code",
   "execution_count": 55,
   "id": "96dc92db",
   "metadata": {},
   "outputs": [],
   "source": [
    "# Encoding test set category attributes\n",
    "\n",
    "# Select category attributes\n",
    "X_test_categorical = X_test[[\"Operating_Airline\",\"Dest\",\"Origin\"]]\n",
    "\n",
    "# transform test set\n",
    "X_test_categorical_encoded = one_hot_encoder.transform(X_test_categorical)\n",
    "X_test_categorical_encoded\n",
    "\n",
    "# Convert to data frame\n",
    "X_test_cat = X_test_categorical_encoded.toarray()\n",
    "X_test_cat = pd.DataFrame(\n",
    "  X_test_cat, \n",
    "  columns=one_hot_encoder.get_feature_names_out(),\n",
    "  index=X_test_categorical.index)"
   ]
  },
  {
   "cell_type": "code",
   "execution_count": 56,
   "id": "3c2c4320",
   "metadata": {},
   "outputs": [],
   "source": [
    "# Feature Engineering\n",
    "# Change CRSDepTime and CRSArrTime to hours\n",
    "\n",
    "X_test['CRSDepHour'] = X_test['CRSDepTime'] // 100\n",
    "X_test['CRSArrHour'] = X_test['CRSArrTime'] // 100\n",
    "\n",
    "# Delete CRSDepTime and CRSArrTime, hours CRSDepHour and CRSArrHour have been extracted\n",
    "X_test.drop(['CRSDepTime', 'CRSArrTime'], axis=1, inplace=True)"
   ]
  },
  {
   "cell_type": "code",
   "execution_count": 57,
   "id": "83d5d859",
   "metadata": {
    "scrolled": true
   },
   "outputs": [
    {
     "data": {
      "text/html": [
       "<div>\n",
       "<style scoped>\n",
       "    .dataframe tbody tr th:only-of-type {\n",
       "        vertical-align: middle;\n",
       "    }\n",
       "\n",
       "    .dataframe tbody tr th {\n",
       "        vertical-align: top;\n",
       "    }\n",
       "\n",
       "    .dataframe thead th {\n",
       "        text-align: right;\n",
       "    }\n",
       "</style>\n",
       "<table border=\"1\" class=\"dataframe\">\n",
       "  <thead>\n",
       "    <tr style=\"text-align: right;\">\n",
       "      <th></th>\n",
       "      <th>Year</th>\n",
       "      <th>Month</th>\n",
       "      <th>DayOfWeek</th>\n",
       "      <th>Distance</th>\n",
       "      <th>CRSDepHour</th>\n",
       "      <th>CRSArrHour</th>\n",
       "      <th>Operating_Airline_9E</th>\n",
       "      <th>Operating_Airline_9K</th>\n",
       "      <th>Operating_Airline_AA</th>\n",
       "      <th>Operating_Airline_AS</th>\n",
       "      <th>...</th>\n",
       "      <th>Origin_VEL</th>\n",
       "      <th>Origin_VLD</th>\n",
       "      <th>Origin_VPS</th>\n",
       "      <th>Origin_WRG</th>\n",
       "      <th>Origin_WYS</th>\n",
       "      <th>Origin_XNA</th>\n",
       "      <th>Origin_XWA</th>\n",
       "      <th>Origin_YAK</th>\n",
       "      <th>Origin_YKM</th>\n",
       "      <th>Origin_YUM</th>\n",
       "    </tr>\n",
       "  </thead>\n",
       "  <tbody>\n",
       "    <tr>\n",
       "      <th>119071</th>\n",
       "      <td>2019</td>\n",
       "      <td>3</td>\n",
       "      <td>4</td>\n",
       "      <td>383</td>\n",
       "      <td>14</td>\n",
       "      <td>15</td>\n",
       "      <td>0.0</td>\n",
       "      <td>0.0</td>\n",
       "      <td>0.0</td>\n",
       "      <td>0.0</td>\n",
       "      <td>...</td>\n",
       "      <td>0.0</td>\n",
       "      <td>0.0</td>\n",
       "      <td>0.0</td>\n",
       "      <td>0.0</td>\n",
       "      <td>0.0</td>\n",
       "      <td>0.0</td>\n",
       "      <td>0.0</td>\n",
       "      <td>0.0</td>\n",
       "      <td>0.0</td>\n",
       "      <td>0.0</td>\n",
       "    </tr>\n",
       "    <tr>\n",
       "      <th>282556</th>\n",
       "      <td>2022</td>\n",
       "      <td>2</td>\n",
       "      <td>4</td>\n",
       "      <td>224</td>\n",
       "      <td>7</td>\n",
       "      <td>8</td>\n",
       "      <td>0.0</td>\n",
       "      <td>0.0</td>\n",
       "      <td>0.0</td>\n",
       "      <td>0.0</td>\n",
       "      <td>...</td>\n",
       "      <td>0.0</td>\n",
       "      <td>0.0</td>\n",
       "      <td>0.0</td>\n",
       "      <td>0.0</td>\n",
       "      <td>0.0</td>\n",
       "      <td>0.0</td>\n",
       "      <td>0.0</td>\n",
       "      <td>0.0</td>\n",
       "      <td>0.0</td>\n",
       "      <td>0.0</td>\n",
       "    </tr>\n",
       "    <tr>\n",
       "      <th>285203</th>\n",
       "      <td>2022</td>\n",
       "      <td>5</td>\n",
       "      <td>4</td>\n",
       "      <td>399</td>\n",
       "      <td>12</td>\n",
       "      <td>13</td>\n",
       "      <td>0.0</td>\n",
       "      <td>0.0</td>\n",
       "      <td>0.0</td>\n",
       "      <td>0.0</td>\n",
       "      <td>...</td>\n",
       "      <td>0.0</td>\n",
       "      <td>0.0</td>\n",
       "      <td>0.0</td>\n",
       "      <td>0.0</td>\n",
       "      <td>0.0</td>\n",
       "      <td>0.0</td>\n",
       "      <td>0.0</td>\n",
       "      <td>0.0</td>\n",
       "      <td>0.0</td>\n",
       "      <td>0.0</td>\n",
       "    </tr>\n",
       "    <tr>\n",
       "      <th>29808</th>\n",
       "      <td>2018</td>\n",
       "      <td>4</td>\n",
       "      <td>5</td>\n",
       "      <td>534</td>\n",
       "      <td>5</td>\n",
       "      <td>7</td>\n",
       "      <td>0.0</td>\n",
       "      <td>0.0</td>\n",
       "      <td>0.0</td>\n",
       "      <td>0.0</td>\n",
       "      <td>...</td>\n",
       "      <td>0.0</td>\n",
       "      <td>0.0</td>\n",
       "      <td>0.0</td>\n",
       "      <td>0.0</td>\n",
       "      <td>0.0</td>\n",
       "      <td>0.0</td>\n",
       "      <td>0.0</td>\n",
       "      <td>0.0</td>\n",
       "      <td>0.0</td>\n",
       "      <td>0.0</td>\n",
       "    </tr>\n",
       "    <tr>\n",
       "      <th>8032</th>\n",
       "      <td>2018</td>\n",
       "      <td>4</td>\n",
       "      <td>5</td>\n",
       "      <td>446</td>\n",
       "      <td>13</td>\n",
       "      <td>15</td>\n",
       "      <td>0.0</td>\n",
       "      <td>0.0</td>\n",
       "      <td>0.0</td>\n",
       "      <td>0.0</td>\n",
       "      <td>...</td>\n",
       "      <td>0.0</td>\n",
       "      <td>0.0</td>\n",
       "      <td>0.0</td>\n",
       "      <td>0.0</td>\n",
       "      <td>0.0</td>\n",
       "      <td>0.0</td>\n",
       "      <td>0.0</td>\n",
       "      <td>0.0</td>\n",
       "      <td>0.0</td>\n",
       "      <td>0.0</td>\n",
       "    </tr>\n",
       "  </tbody>\n",
       "</table>\n",
       "<p>5 rows × 805 columns</p>\n",
       "</div>"
      ],
      "text/plain": [
       "        Year  Month  DayOfWeek  Distance  CRSDepHour  CRSArrHour  \\\n",
       "119071  2019      3          4       383          14          15   \n",
       "282556  2022      2          4       224           7           8   \n",
       "285203  2022      5          4       399          12          13   \n",
       "29808   2018      4          5       534           5           7   \n",
       "8032    2018      4          5       446          13          15   \n",
       "\n",
       "        Operating_Airline_9E  Operating_Airline_9K  Operating_Airline_AA  \\\n",
       "119071                   0.0                   0.0                   0.0   \n",
       "282556                   0.0                   0.0                   0.0   \n",
       "285203                   0.0                   0.0                   0.0   \n",
       "29808                    0.0                   0.0                   0.0   \n",
       "8032                     0.0                   0.0                   0.0   \n",
       "\n",
       "        Operating_Airline_AS  ...  Origin_VEL  Origin_VLD  Origin_VPS  \\\n",
       "119071                   0.0  ...         0.0         0.0         0.0   \n",
       "282556                   0.0  ...         0.0         0.0         0.0   \n",
       "285203                   0.0  ...         0.0         0.0         0.0   \n",
       "29808                    0.0  ...         0.0         0.0         0.0   \n",
       "8032                     0.0  ...         0.0         0.0         0.0   \n",
       "\n",
       "        Origin_WRG  Origin_WYS  Origin_XNA  Origin_XWA  Origin_YAK  \\\n",
       "119071         0.0         0.0         0.0         0.0         0.0   \n",
       "282556         0.0         0.0         0.0         0.0         0.0   \n",
       "285203         0.0         0.0         0.0         0.0         0.0   \n",
       "29808          0.0         0.0         0.0         0.0         0.0   \n",
       "8032           0.0         0.0         0.0         0.0         0.0   \n",
       "\n",
       "        Origin_YKM  Origin_YUM  \n",
       "119071         0.0         0.0  \n",
       "282556         0.0         0.0  \n",
       "285203         0.0         0.0  \n",
       "29808          0.0         0.0  \n",
       "8032           0.0         0.0  \n",
       "\n",
       "[5 rows x 805 columns]"
      ]
     },
     "execution_count": 57,
     "metadata": {},
     "output_type": "execute_result"
    }
   ],
   "source": [
    "# numeric column\n",
    "X_test_num = X_test.drop(['Operating_Airline',\"Dest\",\"Origin\"], axis=1)\n",
    "\n",
    "# Combine numerical and categorical\n",
    "X_test = pd.concat((X_test_num, X_test_cat), axis=1)\n",
    "X_test.head()"
   ]
  },
  {
   "cell_type": "code",
   "execution_count": 58,
   "id": "2803a147",
   "metadata": {},
   "outputs": [
    {
     "name": "stdout",
     "output_type": "stream",
     "text": [
      "Test set accuracy: 0.7836259313179755\n",
      "              precision    recall  f1-score   support\n",
      "\n",
      "         0.0       0.80      0.96      0.88     46606\n",
      "         1.0       0.33      0.07      0.12     11779\n",
      "\n",
      "    accuracy                           0.78     58385\n",
      "   macro avg       0.57      0.52      0.50     58385\n",
      "weighted avg       0.71      0.78      0.72     58385\n",
      "\n"
     ]
    }
   ],
   "source": [
    "# use the best model to predict the test set features\n",
    "y_test_pred = final_model.predict(X_test)\n",
    "\n",
    "# Calculate accuracy on test set\n",
    "test_accuracy = accuracy_score(y_test, y_test_pred)\n",
    "\n",
    "# Printing accuracy\n",
    "print(f\"Test set accuracy: {test_accuracy}\")\n",
    "\n",
    "# Detailed performance reporting (including precision, recall, F1 score, etc.)\n",
    "print(classification_report(y_test, y_test_pred))"
   ]
  },
  {
   "cell_type": "markdown",
   "id": "03c0547a",
   "metadata": {},
   "source": [
    "* For the small dataset, the overall accuracy of the model on the test set is approximately 79.43%. \n",
    "* For the medium dataset, the overall accuracy of the model on the test set is approximately 78.36%. \n",
    "* The model shows relatively good precision and recall for class 0, indicating that it performs well in identifying instances of class 0. However, the model has lower precision and recall for class 1, suggesting challenges in correctly identifying instances of class 1."
   ]
  }
 ],
 "metadata": {
  "kernelspec": {
   "display_name": "Python 3 (ipykernel)",
   "language": "python",
   "name": "python3"
  },
  "language_info": {
   "codemirror_mode": {
    "name": "ipython",
    "version": 3
   },
   "file_extension": ".py",
   "mimetype": "text/x-python",
   "name": "python",
   "nbconvert_exporter": "python",
   "pygments_lexer": "ipython3",
   "version": "3.9.13"
  }
 },
 "nbformat": 4,
 "nbformat_minor": 5
}
